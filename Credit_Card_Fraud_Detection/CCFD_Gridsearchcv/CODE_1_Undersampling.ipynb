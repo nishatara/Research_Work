{
 "cells": [
  {
   "cell_type": "code",
   "execution_count": 131,
   "metadata": {},
   "outputs": [],
   "source": [
    "#Import Library\n",
    "import pandas as pd\n",
    "import matplotlib.pyplot as plt\n",
    "import numpy as np\n",
    "\n",
    "%matplotlib inline"
   ]
  },
  {
   "cell_type": "code",
   "execution_count": 132,
   "metadata": {},
   "outputs": [
    {
     "data": {
      "text/html": [
       "<div>\n",
       "<style scoped>\n",
       "    .dataframe tbody tr th:only-of-type {\n",
       "        vertical-align: middle;\n",
       "    }\n",
       "\n",
       "    .dataframe tbody tr th {\n",
       "        vertical-align: top;\n",
       "    }\n",
       "\n",
       "    .dataframe thead th {\n",
       "        text-align: right;\n",
       "    }\n",
       "</style>\n",
       "<table border=\"1\" class=\"dataframe\">\n",
       "  <thead>\n",
       "    <tr style=\"text-align: right;\">\n",
       "      <th></th>\n",
       "      <th>Time</th>\n",
       "      <th>V1</th>\n",
       "      <th>V2</th>\n",
       "      <th>V3</th>\n",
       "      <th>V4</th>\n",
       "      <th>V5</th>\n",
       "      <th>V6</th>\n",
       "      <th>V7</th>\n",
       "      <th>V8</th>\n",
       "      <th>V9</th>\n",
       "      <th>...</th>\n",
       "      <th>V21</th>\n",
       "      <th>V22</th>\n",
       "      <th>V23</th>\n",
       "      <th>V24</th>\n",
       "      <th>V25</th>\n",
       "      <th>V26</th>\n",
       "      <th>V27</th>\n",
       "      <th>V28</th>\n",
       "      <th>Amount</th>\n",
       "      <th>Class</th>\n",
       "    </tr>\n",
       "  </thead>\n",
       "  <tbody>\n",
       "    <tr>\n",
       "      <th>0</th>\n",
       "      <td>0.0</td>\n",
       "      <td>-1.359807</td>\n",
       "      <td>-0.072781</td>\n",
       "      <td>2.536347</td>\n",
       "      <td>1.378155</td>\n",
       "      <td>-0.338321</td>\n",
       "      <td>0.462388</td>\n",
       "      <td>0.239599</td>\n",
       "      <td>0.098698</td>\n",
       "      <td>0.363787</td>\n",
       "      <td>...</td>\n",
       "      <td>-0.018307</td>\n",
       "      <td>0.277838</td>\n",
       "      <td>-0.110474</td>\n",
       "      <td>0.066928</td>\n",
       "      <td>0.128539</td>\n",
       "      <td>-0.189115</td>\n",
       "      <td>0.133558</td>\n",
       "      <td>-0.021053</td>\n",
       "      <td>149.62</td>\n",
       "      <td>0</td>\n",
       "    </tr>\n",
       "    <tr>\n",
       "      <th>1</th>\n",
       "      <td>0.0</td>\n",
       "      <td>1.191857</td>\n",
       "      <td>0.266151</td>\n",
       "      <td>0.166480</td>\n",
       "      <td>0.448154</td>\n",
       "      <td>0.060018</td>\n",
       "      <td>-0.082361</td>\n",
       "      <td>-0.078803</td>\n",
       "      <td>0.085102</td>\n",
       "      <td>-0.255425</td>\n",
       "      <td>...</td>\n",
       "      <td>-0.225775</td>\n",
       "      <td>-0.638672</td>\n",
       "      <td>0.101288</td>\n",
       "      <td>-0.339846</td>\n",
       "      <td>0.167170</td>\n",
       "      <td>0.125895</td>\n",
       "      <td>-0.008983</td>\n",
       "      <td>0.014724</td>\n",
       "      <td>2.69</td>\n",
       "      <td>0</td>\n",
       "    </tr>\n",
       "    <tr>\n",
       "      <th>2</th>\n",
       "      <td>1.0</td>\n",
       "      <td>-1.358354</td>\n",
       "      <td>-1.340163</td>\n",
       "      <td>1.773209</td>\n",
       "      <td>0.379780</td>\n",
       "      <td>-0.503198</td>\n",
       "      <td>1.800499</td>\n",
       "      <td>0.791461</td>\n",
       "      <td>0.247676</td>\n",
       "      <td>-1.514654</td>\n",
       "      <td>...</td>\n",
       "      <td>0.247998</td>\n",
       "      <td>0.771679</td>\n",
       "      <td>0.909412</td>\n",
       "      <td>-0.689281</td>\n",
       "      <td>-0.327642</td>\n",
       "      <td>-0.139097</td>\n",
       "      <td>-0.055353</td>\n",
       "      <td>-0.059752</td>\n",
       "      <td>378.66</td>\n",
       "      <td>0</td>\n",
       "    </tr>\n",
       "    <tr>\n",
       "      <th>3</th>\n",
       "      <td>1.0</td>\n",
       "      <td>-0.966272</td>\n",
       "      <td>-0.185226</td>\n",
       "      <td>1.792993</td>\n",
       "      <td>-0.863291</td>\n",
       "      <td>-0.010309</td>\n",
       "      <td>1.247203</td>\n",
       "      <td>0.237609</td>\n",
       "      <td>0.377436</td>\n",
       "      <td>-1.387024</td>\n",
       "      <td>...</td>\n",
       "      <td>-0.108300</td>\n",
       "      <td>0.005274</td>\n",
       "      <td>-0.190321</td>\n",
       "      <td>-1.175575</td>\n",
       "      <td>0.647376</td>\n",
       "      <td>-0.221929</td>\n",
       "      <td>0.062723</td>\n",
       "      <td>0.061458</td>\n",
       "      <td>123.50</td>\n",
       "      <td>0</td>\n",
       "    </tr>\n",
       "    <tr>\n",
       "      <th>4</th>\n",
       "      <td>2.0</td>\n",
       "      <td>-1.158233</td>\n",
       "      <td>0.877737</td>\n",
       "      <td>1.548718</td>\n",
       "      <td>0.403034</td>\n",
       "      <td>-0.407193</td>\n",
       "      <td>0.095921</td>\n",
       "      <td>0.592941</td>\n",
       "      <td>-0.270533</td>\n",
       "      <td>0.817739</td>\n",
       "      <td>...</td>\n",
       "      <td>-0.009431</td>\n",
       "      <td>0.798278</td>\n",
       "      <td>-0.137458</td>\n",
       "      <td>0.141267</td>\n",
       "      <td>-0.206010</td>\n",
       "      <td>0.502292</td>\n",
       "      <td>0.219422</td>\n",
       "      <td>0.215153</td>\n",
       "      <td>69.99</td>\n",
       "      <td>0</td>\n",
       "    </tr>\n",
       "  </tbody>\n",
       "</table>\n",
       "<p>5 rows × 31 columns</p>\n",
       "</div>"
      ],
      "text/plain": [
       "   Time        V1        V2        V3        V4        V5        V6        V7  \\\n",
       "0   0.0 -1.359807 -0.072781  2.536347  1.378155 -0.338321  0.462388  0.239599   \n",
       "1   0.0  1.191857  0.266151  0.166480  0.448154  0.060018 -0.082361 -0.078803   \n",
       "2   1.0 -1.358354 -1.340163  1.773209  0.379780 -0.503198  1.800499  0.791461   \n",
       "3   1.0 -0.966272 -0.185226  1.792993 -0.863291 -0.010309  1.247203  0.237609   \n",
       "4   2.0 -1.158233  0.877737  1.548718  0.403034 -0.407193  0.095921  0.592941   \n",
       "\n",
       "         V8        V9  ...       V21       V22       V23       V24       V25  \\\n",
       "0  0.098698  0.363787  ... -0.018307  0.277838 -0.110474  0.066928  0.128539   \n",
       "1  0.085102 -0.255425  ... -0.225775 -0.638672  0.101288 -0.339846  0.167170   \n",
       "2  0.247676 -1.514654  ...  0.247998  0.771679  0.909412 -0.689281 -0.327642   \n",
       "3  0.377436 -1.387024  ... -0.108300  0.005274 -0.190321 -1.175575  0.647376   \n",
       "4 -0.270533  0.817739  ... -0.009431  0.798278 -0.137458  0.141267 -0.206010   \n",
       "\n",
       "        V26       V27       V28  Amount  Class  \n",
       "0 -0.189115  0.133558 -0.021053  149.62      0  \n",
       "1  0.125895 -0.008983  0.014724    2.69      0  \n",
       "2 -0.139097 -0.055353 -0.059752  378.66      0  \n",
       "3 -0.221929  0.062723  0.061458  123.50      0  \n",
       "4  0.502292  0.219422  0.215153   69.99      0  \n",
       "\n",
       "[5 rows x 31 columns]"
      ]
     },
     "execution_count": 132,
     "metadata": {},
     "output_type": "execute_result"
    }
   ],
   "source": [
    "#Printing the Dataset\n",
    "data = pd.read_csv(\"creditcard.csv\")\n",
    "data.head()"
   ]
  },
  {
   "cell_type": "code",
   "execution_count": 133,
   "metadata": {},
   "outputs": [
    {
     "name": "stdout",
     "output_type": "stream",
     "text": [
      "Fraud Transactions: 0.0017304750013189597\n",
      "False Detection Cases: 492\n",
      "True Detection Cases: 284315 \n",
      "\n"
     ]
    }
   ],
   "source": [
    "false = data[data['Class'] == 1]\n",
    "true = data[data['Class'] == 0]\n",
    "n = len(false)/float(len(true))\n",
    "print('Fraud Transactions:',n)\n",
    "\n",
    "print('False Detection Cases: {}'.format(len(data[data['Class'] == 1])))\n",
    "print('True Detection Cases: {}'.format(len(data[data['Class'] == 0])),\"\\n\")"
   ]
  },
  {
   "cell_type": "code",
   "execution_count": 134,
   "metadata": {},
   "outputs": [
    {
     "data": {
      "text/plain": [
       "Text(0.5, 0, 'Class')"
      ]
     },
     "execution_count": 134,
     "metadata": {},
     "output_type": "execute_result"
    },
    {
     "data": {
      "image/png": "[encoded data removed]",
      "text/plain": [
       "<Figure size 216x288 with 1 Axes>"
      ]
     },
     "metadata": {
      "needs_background": "light"
     },
     "output_type": "display_data"
    }
   ],
   "source": [
    "import seaborn as sns\n",
    "count_classes = pd.value_counts(data['Class'], sort = True).sort_index()\n",
    "\n",
    "plt.figure(figsize=(3,4))\n",
    "sns.barplot(x=count_classes.index, y=count_classes)\n",
    "plt.title('(0: Genuine, 1: Fraudulent)')\n",
    "plt.ylabel('Frequency')\n",
    "plt.xlabel('Class')"
   ]
  },
  {
   "cell_type": "code",
   "execution_count": 135,
   "metadata": {},
   "outputs": [
    {
     "data": {
      "text/html": [
       "<div>\n",
       "<style scoped>\n",
       "    .dataframe tbody tr th:only-of-type {\n",
       "        vertical-align: middle;\n",
       "    }\n",
       "\n",
       "    .dataframe tbody tr th {\n",
       "        vertical-align: top;\n",
       "    }\n",
       "\n",
       "    .dataframe thead th {\n",
       "        text-align: right;\n",
       "    }\n",
       "</style>\n",
       "<table border=\"1\" class=\"dataframe\">\n",
       "  <thead>\n",
       "    <tr style=\"text-align: right;\">\n",
       "      <th></th>\n",
       "      <th>V1</th>\n",
       "      <th>V2</th>\n",
       "      <th>V3</th>\n",
       "      <th>V4</th>\n",
       "      <th>V5</th>\n",
       "      <th>V6</th>\n",
       "      <th>V7</th>\n",
       "      <th>V8</th>\n",
       "      <th>V9</th>\n",
       "      <th>V10</th>\n",
       "      <th>...</th>\n",
       "      <th>V21</th>\n",
       "      <th>V22</th>\n",
       "      <th>V23</th>\n",
       "      <th>V24</th>\n",
       "      <th>V25</th>\n",
       "      <th>V26</th>\n",
       "      <th>V27</th>\n",
       "      <th>V28</th>\n",
       "      <th>Class</th>\n",
       "      <th>normAmount</th>\n",
       "    </tr>\n",
       "  </thead>\n",
       "  <tbody>\n",
       "    <tr>\n",
       "      <th>0</th>\n",
       "      <td>-1.359807</td>\n",
       "      <td>-0.072781</td>\n",
       "      <td>2.536347</td>\n",
       "      <td>1.378155</td>\n",
       "      <td>-0.338321</td>\n",
       "      <td>0.462388</td>\n",
       "      <td>0.239599</td>\n",
       "      <td>0.098698</td>\n",
       "      <td>0.363787</td>\n",
       "      <td>0.090794</td>\n",
       "      <td>...</td>\n",
       "      <td>-0.018307</td>\n",
       "      <td>0.277838</td>\n",
       "      <td>-0.110474</td>\n",
       "      <td>0.066928</td>\n",
       "      <td>0.128539</td>\n",
       "      <td>-0.189115</td>\n",
       "      <td>0.133558</td>\n",
       "      <td>-0.021053</td>\n",
       "      <td>0</td>\n",
       "      <td>0.244964</td>\n",
       "    </tr>\n",
       "    <tr>\n",
       "      <th>1</th>\n",
       "      <td>1.191857</td>\n",
       "      <td>0.266151</td>\n",
       "      <td>0.166480</td>\n",
       "      <td>0.448154</td>\n",
       "      <td>0.060018</td>\n",
       "      <td>-0.082361</td>\n",
       "      <td>-0.078803</td>\n",
       "      <td>0.085102</td>\n",
       "      <td>-0.255425</td>\n",
       "      <td>-0.166974</td>\n",
       "      <td>...</td>\n",
       "      <td>-0.225775</td>\n",
       "      <td>-0.638672</td>\n",
       "      <td>0.101288</td>\n",
       "      <td>-0.339846</td>\n",
       "      <td>0.167170</td>\n",
       "      <td>0.125895</td>\n",
       "      <td>-0.008983</td>\n",
       "      <td>0.014724</td>\n",
       "      <td>0</td>\n",
       "      <td>-0.342475</td>\n",
       "    </tr>\n",
       "    <tr>\n",
       "      <th>2</th>\n",
       "      <td>-1.358354</td>\n",
       "      <td>-1.340163</td>\n",
       "      <td>1.773209</td>\n",
       "      <td>0.379780</td>\n",
       "      <td>-0.503198</td>\n",
       "      <td>1.800499</td>\n",
       "      <td>0.791461</td>\n",
       "      <td>0.247676</td>\n",
       "      <td>-1.514654</td>\n",
       "      <td>0.207643</td>\n",
       "      <td>...</td>\n",
       "      <td>0.247998</td>\n",
       "      <td>0.771679</td>\n",
       "      <td>0.909412</td>\n",
       "      <td>-0.689281</td>\n",
       "      <td>-0.327642</td>\n",
       "      <td>-0.139097</td>\n",
       "      <td>-0.055353</td>\n",
       "      <td>-0.059752</td>\n",
       "      <td>0</td>\n",
       "      <td>1.160686</td>\n",
       "    </tr>\n",
       "    <tr>\n",
       "      <th>3</th>\n",
       "      <td>-0.966272</td>\n",
       "      <td>-0.185226</td>\n",
       "      <td>1.792993</td>\n",
       "      <td>-0.863291</td>\n",
       "      <td>-0.010309</td>\n",
       "      <td>1.247203</td>\n",
       "      <td>0.237609</td>\n",
       "      <td>0.377436</td>\n",
       "      <td>-1.387024</td>\n",
       "      <td>-0.054952</td>\n",
       "      <td>...</td>\n",
       "      <td>-0.108300</td>\n",
       "      <td>0.005274</td>\n",
       "      <td>-0.190321</td>\n",
       "      <td>-1.175575</td>\n",
       "      <td>0.647376</td>\n",
       "      <td>-0.221929</td>\n",
       "      <td>0.062723</td>\n",
       "      <td>0.061458</td>\n",
       "      <td>0</td>\n",
       "      <td>0.140534</td>\n",
       "    </tr>\n",
       "    <tr>\n",
       "      <th>4</th>\n",
       "      <td>-1.158233</td>\n",
       "      <td>0.877737</td>\n",
       "      <td>1.548718</td>\n",
       "      <td>0.403034</td>\n",
       "      <td>-0.407193</td>\n",
       "      <td>0.095921</td>\n",
       "      <td>0.592941</td>\n",
       "      <td>-0.270533</td>\n",
       "      <td>0.817739</td>\n",
       "      <td>0.753074</td>\n",
       "      <td>...</td>\n",
       "      <td>-0.009431</td>\n",
       "      <td>0.798278</td>\n",
       "      <td>-0.137458</td>\n",
       "      <td>0.141267</td>\n",
       "      <td>-0.206010</td>\n",
       "      <td>0.502292</td>\n",
       "      <td>0.219422</td>\n",
       "      <td>0.215153</td>\n",
       "      <td>0</td>\n",
       "      <td>-0.073403</td>\n",
       "    </tr>\n",
       "  </tbody>\n",
       "</table>\n",
       "<p>5 rows × 30 columns</p>\n",
       "</div>"
      ],
      "text/plain": [
       "         V1        V2        V3        V4        V5        V6        V7  \\\n",
       "0 -1.359807 -0.072781  2.536347  1.378155 -0.338321  0.462388  0.239599   \n",
       "1  1.191857  0.266151  0.166480  0.448154  0.060018 -0.082361 -0.078803   \n",
       "2 -1.358354 -1.340163  1.773209  0.379780 -0.503198  1.800499  0.791461   \n",
       "3 -0.966272 -0.185226  1.792993 -0.863291 -0.010309  1.247203  0.237609   \n",
       "4 -1.158233  0.877737  1.548718  0.403034 -0.407193  0.095921  0.592941   \n",
       "\n",
       "         V8        V9       V10  ...       V21       V22       V23       V24  \\\n",
       "0  0.098698  0.363787  0.090794  ... -0.018307  0.277838 -0.110474  0.066928   \n",
       "1  0.085102 -0.255425 -0.166974  ... -0.225775 -0.638672  0.101288 -0.339846   \n",
       "2  0.247676 -1.514654  0.207643  ...  0.247998  0.771679  0.909412 -0.689281   \n",
       "3  0.377436 -1.387024 -0.054952  ... -0.108300  0.005274 -0.190321 -1.175575   \n",
       "4 -0.270533  0.817739  0.753074  ... -0.009431  0.798278 -0.137458  0.141267   \n",
       "\n",
       "        V25       V26       V27       V28  Class  normAmount  \n",
       "0  0.128539 -0.189115  0.133558 -0.021053      0    0.244964  \n",
       "1  0.167170  0.125895 -0.008983  0.014724      0   -0.342475  \n",
       "2 -0.327642 -0.139097 -0.055353 -0.059752      0    1.160686  \n",
       "3  0.647376 -0.221929  0.062723  0.061458      0    0.140534  \n",
       "4 -0.206010  0.502292  0.219422  0.215153      0   -0.073403  \n",
       "\n",
       "[5 rows x 30 columns]"
      ]
     },
     "execution_count": 135,
     "metadata": {},
     "output_type": "execute_result"
    }
   ],
   "source": [
    "from sklearn.preprocessing import StandardScaler\n",
    "data['normAmount'] = StandardScaler().fit_transform(data['Amount'].values.reshape(-1, 1))\n",
    "data = data.drop(['Time','Amount'],axis=1)\n",
    "data.head()"
   ]
  },
  {
   "cell_type": "code",
   "execution_count": 136,
   "metadata": {},
   "outputs": [],
   "source": [
    "# 2. Assigning Dependent and Independent variable\n",
    "\n",
    "X = data.loc[:, data.columns != 'Class']\n",
    "y = data.loc[:, data.columns == 'Class']"
   ]
  },
  {
   "cell_type": "code",
   "execution_count": 137,
   "metadata": {},
   "outputs": [
    {
     "name": "stdout",
     "output_type": "stream",
     "text": [
      "Percentage of normal transactions:  0.5\n",
      "Percentage of fraud transactions:  0.5\n",
      "Total number of transactions in resampled data:  984\n"
     ]
    }
   ],
   "source": [
    "#Undersampling\n",
    "\n",
    "# Data points in the minority class\n",
    "number_records_fraud = len(data[data.Class == 1])\n",
    "fraud_indices = np.array(data[data.Class == 1].index)\n",
    "\n",
    "# Pick indices of the normal classes\n",
    "normal_indices = data[data.Class == 0].index\n",
    "\n",
    "random_normal_indices = np.random.choice(normal_indices, number_records_fraud, replace = False)\n",
    "random_normal_indices = np.array(random_normal_indices)\n",
    "\n",
    "under_sample_indices = np.concatenate([fraud_indices,random_normal_indices])\n",
    "\n",
    "# Undersampled dataset\n",
    "under_sample_data = data.iloc[under_sample_indices,:]\n",
    "\n",
    "X_undersample = under_sample_data.loc[:, under_sample_data.columns != 'Class']\n",
    "y_undersample = under_sample_data.loc[:, under_sample_data.columns == 'Class']\n",
    "\n",
    "# Showing ratio\n",
    "print(\"Percentage of normal transactions: \", len(under_sample_data[under_sample_data.Class == 0])/len(under_sample_data))\n",
    "print(\"Percentage of fraud transactions: \", len(under_sample_data[under_sample_data.Class == 1])/len(under_sample_data))\n",
    "print(\"Total number of transactions in resampled data: \", len(under_sample_data))"
   ]
  },
  {
   "cell_type": "code",
   "execution_count": 138,
   "metadata": {},
   "outputs": [
    {
     "name": "stdout",
     "output_type": "stream",
     "text": [
      "Number transactions train dataset:  199364\n",
      "Number transactions test dataset:  85443\n",
      "Total number of transactions:  284807\n",
      " \n",
      "Undersampled Data:\n",
      "Number transactions train dataset:  787\n",
      "Number transactions test dataset:  197\n",
      "Total number of transactions:  984\n"
     ]
    }
   ],
   "source": [
    "# Splitting data into train and test set.\n",
    "\n",
    "from sklearn.model_selection import train_test_split\n",
    "\n",
    "# Whole dataset\n",
    "X_train, X_test, y_train, y_test = train_test_split(X,y,test_size = 0.3, random_state = 0)\n",
    "\n",
    "print(\"Number transactions train dataset: \", len(X_train))\n",
    "print(\"Number transactions test dataset: \", len(X_test))\n",
    "print(\"Total number of transactions: \", len(X_train)+len(X_test))\n",
    "\n",
    "# Undersampled dataset\n",
    "X_train_undersample, X_test_undersample, y_train_undersample, y_test_undersample = train_test_split(X_undersample\n",
    "                                                                                                   ,y_undersample\n",
    "                                                                                                  ,test_size = 0.2\n",
    "                                                                                                   ,random_state = 0)\n",
    "\n",
    "print(\" \")\n",
    "print(\"Undersampled Data:\")\n",
    "print(\"Number transactions train dataset: \", len(X_train_undersample))\n",
    "print(\"Number transactions test dataset: \", len(X_test_undersample))\n",
    "print(\"Total number of transactions: \", len(X_train_undersample)+len(X_test_undersample))\n"
   ]
  },
  {
   "cell_type": "code",
   "execution_count": 139,
   "metadata": {},
   "outputs": [
    {
     "data": {
      "text/plain": [
       "Text(0.5, 0, 'Class')"
      ]
     },
     "execution_count": 139,
     "metadata": {},
     "output_type": "execute_result"
    },
    {
     "data": {
      "image/png": "[encoded data removed]",
      "text/plain": [
       "<Figure size 216x288 with 1 Axes>"
      ]
     },
     "metadata": {
      "needs_background": "light"
     },
     "output_type": "display_data"
    }
   ],
   "source": [
    "import seaborn as sns\n",
    "count_classes = pd.value_counts(under_sample_data['Class'], sort = True).sort_index()\n",
    "'''count_classes.plot(kind = 'bar',color = 'grey')'''\n",
    "\n",
    "plt.figure(figsize=(3,4))\n",
    "sns.barplot(x=count_classes.index, y=count_classes)\n",
    "plt.title('(0: Genuine, 1:Fraudulent)')\n",
    "plt.ylabel('Frequency')\n",
    "plt.xlabel('Class')"
   ]
  },
  {
   "cell_type": "code",
   "execution_count": 140,
   "metadata": {},
   "outputs": [],
   "source": [
    "from sklearn.model_selection import GridSearchCV\n",
    "from sklearn.linear_model import LogisticRegression\n",
    "from sklearn.svm import SVC, LinearSVC\n",
    "from sklearn.neighbors import KNeighborsClassifier\n",
    "from sklearn.metrics import accuracy_score\n",
    "from sklearn.model_selection import KFold, cross_val_score\n",
    "from sklearn.metrics import confusion_matrix,precision_recall_curve,auc,roc_auc_score,roc_curve,recall_score,classification_report "
   ]
  },
  {
   "cell_type": "code",
   "execution_count": 141,
   "metadata": {},
   "outputs": [
    {
     "data": {
      "text/plain": [
       "GridSearchCV(cv=3, estimator=LogisticRegression(), n_jobs=1,\n",
       "             param_grid={'C': [0.01, 0.1, 1, 10, 100],\n",
       "                         'max_iter': [1000, 4000, 7000, 8000]})"
      ]
     },
     "execution_count": 141,
     "metadata": {},
     "output_type": "execute_result"
    }
   ],
   "source": [
    "param_grid = {'C' : [0.01 , 0.1 , 1 , 10 , 100],'max_iter': [1000,4000,7000,8000]}\n",
    "grid = GridSearchCV(LogisticRegression(),param_grid ,n_jobs=+1,cv=3)\n",
    "grid.fit(X_train_undersample,y_train_undersample.values.ravel())"
   ]
  },
  {
   "cell_type": "code",
   "execution_count": 142,
   "metadata": {},
   "outputs": [
    {
     "data": {
      "text/plain": [
       "LogisticRegression(C=1, max_iter=1000)"
      ]
     },
     "execution_count": 142,
     "metadata": {},
     "output_type": "execute_result"
    }
   ],
   "source": [
    "grid.best_estimator_"
   ]
  },
  {
   "cell_type": "code",
   "execution_count": 143,
   "metadata": {},
   "outputs": [
    {
     "name": "stdout",
     "output_type": "stream",
     "text": [
      "Accuracy Score 0.9187817258883249\n"
     ]
    }
   ],
   "source": [
    "y_pred_undersample_log = grid.predict(X_test_undersample)\n",
    "print('Accuracy Score',accuracy_score(y_test_undersample,y_pred_undersample_log))"
   ]
  },
  {
   "cell_type": "code",
   "execution_count": 144,
   "metadata": {},
   "outputs": [],
   "source": [
    "# Create a function to plot a fancy confusion matrix\n",
    "\n",
    "import itertools\n",
    "\n",
    "def plot_confusion_matrix(cm, classes,\n",
    "                          normalize=False,\n",
    "                          title='Confusion matrix',\n",
    "                          cmap=plt.cm.Greens):\n",
    "    \"\"\"\n",
    "    This function prints and plots the confusion matrix.\n",
    "    Normalization can be applied by setting `normalize=True`.\n",
    "    \"\"\"\n",
    "    plt.imshow(cm, interpolation='nearest', cmap=cmap)\n",
    "    plt.title(title)\n",
    "    plt.colorbar()\n",
    "    tick_marks = np.arange(len(classes))\n",
    "    plt.xticks(tick_marks, classes, rotation=0)\n",
    "    plt.yticks(tick_marks, classes)\n",
    "\n",
    "    if normalize:\n",
    "        cm = cm.astype('float') / cm.sum(axis=1)[:, np.newaxis]\n",
    "        #print(\"Normalized confusion matrix\")\n",
    "    else:\n",
    "        1#print('Confusion matrix, without normalization')\n",
    "\n",
    "    #print(cm)\n",
    "\n",
    "    thresh = cm.max() / 2.\n",
    "    for i, j in itertools.product(range(cm.shape[0]), range(cm.shape[1])):\n",
    "        plt.text(j, i, cm[i, j],\n",
    "                 horizontalalignment=\"center\",\n",
    "                 color=\"white\" if cm[i, j] > thresh else \"black\")\n",
    "\n",
    "    plt.tight_layout()\n",
    "    plt.ylabel('True label')\n",
    "    plt.xlabel('Predicted label')"
   ]
  },
  {
   "cell_type": "code",
   "execution_count": 145,
   "metadata": {},
   "outputs": [
    {
     "name": "stdout",
     "output_type": "stream",
     "text": [
      "The accuracy score  of logistic regression for undersample data is 0.9187817258883249\n"
     ]
    },
    {
     "data": {
      "image/png": "[encoded data removed]",
      "text/plain": [
       "<Figure size 432x288 with 2 Axes>"
      ]
     },
     "metadata": {
      "needs_background": "light"
     },
     "output_type": "display_data"
    }
   ],
   "source": [
    "# Compute confusion matrix\n",
    "cnf_matrix = confusion_matrix(y_test_undersample,y_pred_undersample_log)\n",
    "np.set_printoptions(precision=2)\n",
    "\n",
    "print('The accuracy score  of logistic regression for undersample data is {}'.format(accuracy_score(y_test_undersample,y_pred_undersample_log)))\n",
    "\n",
    "# Plot non-normalized confusion matrix\n",
    "class_names = [0,1]\n",
    "plt.figure()\n",
    "plot_confusion_matrix(cnf_matrix\n",
    "                      , classes=class_names\n",
    "                      , title='Confusion matrix-LR')\n",
    "plt.show()"
   ]
  },
  {
   "cell_type": "code",
   "execution_count": 146,
   "metadata": {},
   "outputs": [
    {
     "name": "stdout",
     "output_type": "stream",
     "text": [
      "The accuracy of Logistic regression is 0.9187817258883249\n",
      " \n",
      "Precision-->0.8865979381443299\n",
      " \n",
      "F_1_Score -->0.9148936170212766\n",
      " \n",
      "recall_Score -->0.945054945054945\n",
      " \n",
      "matthews_corrcoef -->0.8389363809611246\n"
     ]
    }
   ],
   "source": [
    "from sklearn.metrics import recall_score,f1_score,precision_score,classification_report,matthews_corrcoef\n",
    "\n",
    "\n",
    "\n",
    "print('The accuracy of Logistic regression is {}'.format(accuracy_score(y_test_undersample, y_pred_undersample_log)))\n",
    "print(\" \")\n",
    "print('Precision-->{}'.format(precision_score(y_test_undersample, y_pred_undersample_log)))\n",
    "print(\" \")\n",
    "print('F_1_Score -->{}'.format(f1_score(y_test_undersample, y_pred_undersample_log)))\n",
    "print(\" \")\n",
    "print('recall_Score -->{}'.format(recall_score(y_test_undersample, y_pred_undersample_log)))\n",
    "print(\" \")\n",
    "print('matthews_corrcoef -->{}'.format(matthews_corrcoef(y_test_undersample, y_pred_undersample_log)))\n",
    "\n"
   ]
  },
  {
   "cell_type": "code",
   "execution_count": 147,
   "metadata": {},
   "outputs": [
    {
     "name": "stdout",
     "output_type": "stream",
     "text": [
      "The accuracy of logistic regression is 0.9620331683110378\n"
     ]
    },
    {
     "data": {
      "image/png": "[encoded data removed]",
      "text/plain": [
       "<Figure size 432x288 with 2 Axes>"
      ]
     },
     "metadata": {
      "needs_background": "light"
     },
     "output_type": "display_data"
    }
   ],
   "source": [
    "#On Whole Data\n",
    "y_pred_log = grid.predict(X_test)\n",
    "\n",
    "# Compute confusion matrix\n",
    "cnf_matrix = confusion_matrix(y_test,y_pred_log)\n",
    "np.set_printoptions(precision=2)\n",
    "\n",
    "log_score=(accuracy_score(y_test, y_pred_log))\n",
    "print('The accuracy of logistic regression is {}'.format(accuracy_score(y_test, y_pred_log)))\n",
    "\n",
    "# Plot non-normalized confusion matrix\n",
    "class_names = [0,1]\n",
    "plt.figure()\n",
    "plot_confusion_matrix(cnf_matrix\n",
    "                      , classes=class_names\n",
    "                      , title='Confusion matrix-LR')\n",
    "plt.show()"
   ]
  },
  {
   "cell_type": "code",
   "execution_count": 148,
   "metadata": {},
   "outputs": [
    {
     "name": "stdout",
     "output_type": "stream",
     "text": [
      "The accuracy of Logistic regression is 0.9620331683110378\n",
      " \n",
      "Precision-->0.04036806173938854\n",
      " \n",
      "F_1_Score -->0.07736063708759953\n",
      " \n",
      "recall_Score -->0.9251700680272109\n",
      " \n",
      "matthews_corrcoef -->0.18893999930340896\n"
     ]
    }
   ],
   "source": [
    "from sklearn.metrics import recall_score,f1_score,precision_score,classification_report,matthews_corrcoef\n",
    "\n",
    "\n",
    "print('The accuracy of Logistic regression is {}'.format(accuracy_score(y_test, y_pred_log)))\n",
    "print(\" \")\n",
    "print('Precision-->{}'.format(precision_score(y_test,y_pred_log)))\n",
    "print(\" \")\n",
    "print('F_1_Score -->{}'.format(f1_score(y_test,y_pred_log)))\n",
    "print(\" \")\n",
    "print('recall_Score -->{}'.format(recall_score(y_test,y_pred_log)))\n",
    "print(\" \")\n",
    "print('matthews_corrcoef -->{}'.format(matthews_corrcoef(y_test,y_pred_log)))\n",
    "\n"
   ]
  },
  {
   "cell_type": "code",
   "execution_count": 149,
   "metadata": {},
   "outputs": [
    {
     "name": "stdout",
     "output_type": "stream",
     "text": [
      "AUC= 0.9797843665768194\n"
     ]
    },
    {
     "data": {
      "image/png": "[encoded data removed]",
      "text/plain": [
       "<Figure size 432x288 with 1 Axes>"
      ]
     },
     "metadata": {
      "needs_background": "light"
     },
     "output_type": "display_data"
    }
   ],
   "source": [
    "# ROC CURVE\n",
    "\n",
    "y_pred_undersample_score = grid.fit(X_train_undersample,y_train_undersample.values.ravel()).decision_function(X_test_undersample.values)\n",
    "\n",
    "fpr, tpr, thresholds = roc_curve(y_test_undersample.values.ravel(),y_pred_undersample_score)\n",
    "roc_auc = auc(fpr, tpr)\n",
    "print(\"AUC=\",roc_auc)\n",
    "# Plot ROC\n",
    "plt.title('Receiver Operating Characteristic')\n",
    "plt.plot(fpr, tpr, 'b',label='AUC = %0.3f'% roc_auc)\n",
    "plt.legend(loc='lower right')\n",
    "plt.plot([0,1],[0,1],'r--')\n",
    "plt.xlim([-0.1,1.0])\n",
    "plt.ylim([-0.1,1.01])\n",
    "plt.ylabel('True Positive Rate')\n",
    "plt.xlabel('False Positive Rate')\n",
    "plt.show()"
   ]
  },
  {
   "cell_type": "code",
   "execution_count": null,
   "metadata": {},
   "outputs": [],
   "source": []
  },
  {
   "cell_type": "code",
   "execution_count": null,
   "metadata": {},
   "outputs": [],
   "source": []
  },
  {
   "cell_type": "code",
   "execution_count": 150,
   "metadata": {},
   "outputs": [],
   "source": [
    "#Support Vector Machine"
   ]
  },
  {
   "cell_type": "code",
   "execution_count": 151,
   "metadata": {},
   "outputs": [],
   "source": [
    "from sklearn.model_selection import GridSearchCV\n",
    "from sklearn.svm import SVC, LinearSVC"
   ]
  },
  {
   "cell_type": "code",
   "execution_count": 152,
   "metadata": {},
   "outputs": [
    {
     "data": {
      "text/plain": [
       "GridSearchCV(cv=3, estimator=SVC(), n_jobs=1,\n",
       "             param_grid={'C': [0.1, 1, 10, 100, 1000],\n",
       "                         'gamma': [1, 0.1, 0.01, 0.001, 0.0001],\n",
       "                         'kernel': ['rbf']})"
      ]
     },
     "execution_count": 152,
     "metadata": {},
     "output_type": "execute_result"
    }
   ],
   "source": [
    "param_grid = {'C': [0.1, 1, 10, 100, 1000],  \n",
    "              'gamma': [1, 0.1, 0.01, 0.001, 0.0001], \n",
    "              'kernel': ['rbf']}\n",
    "grid_svm = GridSearchCV(SVC(),param_grid,n_jobs=+1,cv=3)\n",
    "grid_svm.fit(X_train_undersample,y_train_undersample.values.ravel())"
   ]
  },
  {
   "cell_type": "code",
   "execution_count": 153,
   "metadata": {},
   "outputs": [
    {
     "data": {
      "text/plain": [
       "SVC(C=100, gamma=0.001)"
      ]
     },
     "execution_count": 153,
     "metadata": {},
     "output_type": "execute_result"
    }
   ],
   "source": [
    "grid_svm.best_estimator_"
   ]
  },
  {
   "cell_type": "code",
   "execution_count": 154,
   "metadata": {},
   "outputs": [
    {
     "name": "stdout",
     "output_type": "stream",
     "text": [
      "Accuracy Score 0.9441624365482234\n"
     ]
    }
   ],
   "source": [
    "y_pred_undersample_svm = grid_svm.predict(X_test_undersample)\n",
    "print('Accuracy Score',accuracy_score(y_test_undersample,y_pred_undersample_svm))"
   ]
  },
  {
   "cell_type": "code",
   "execution_count": 155,
   "metadata": {},
   "outputs": [
    {
     "name": "stdout",
     "output_type": "stream",
     "text": [
      "The accuracy score  of SVM for undersample data is 0.9441624365482234\n"
     ]
    },
    {
     "data": {
      "image/png": "[encoded data removed]",
      "text/plain": [
       "<Figure size 432x288 with 2 Axes>"
      ]
     },
     "metadata": {
      "needs_background": "light"
     },
     "output_type": "display_data"
    }
   ],
   "source": [
    "# Compute confusion matrix\n",
    "cnf_matrix = confusion_matrix(y_test_undersample,y_pred_undersample_svm)\n",
    "np.set_printoptions(precision=2)\n",
    "\n",
    "print('The accuracy score  of SVM for undersample data is {}'.format(accuracy_score(y_test_undersample,y_pred_undersample_svm)))\n",
    "\n",
    "# Plot non-normalized confusion matrix\n",
    "class_names = [0,1]\n",
    "plt.figure()\n",
    "plot_confusion_matrix(cnf_matrix\n",
    "                      , classes=class_names\n",
    "                      , title='Confusion matrix-SVM')\n",
    "plt.show()"
   ]
  },
  {
   "cell_type": "code",
   "execution_count": 156,
   "metadata": {},
   "outputs": [
    {
     "name": "stdout",
     "output_type": "stream",
     "text": [
      "In case of Undersampled data: \n",
      " \n",
      "The accuracy of SVM is 0.9441624365482234\n",
      " \n",
      "Precision-->0.9347826086956522\n",
      " \n",
      "F_1_Score -->0.9398907103825138\n",
      " \n",
      "recall_Score -->0.945054945054945\n",
      " \n",
      "matthews_corrcoef -->0.8878071328413852\n"
     ]
    }
   ],
   "source": [
    "\n",
    "print('In case of Undersampled data: ')\n",
    "print(\" \")\n",
    "print('The accuracy of SVM is {}'.format(accuracy_score(y_test_undersample, y_pred_undersample_svm)))\n",
    "print(\" \")\n",
    "print('Precision-->{}'.format(precision_score(y_test_undersample, y_pred_undersample_svm)))\n",
    "print(\" \")\n",
    "print('F_1_Score -->{}'.format(f1_score(y_test_undersample, y_pred_undersample_svm)))\n",
    "print(\" \")\n",
    "print('recall_Score -->{}'.format(recall_score(y_test_undersample, y_pred_undersample_svm)))\n",
    "print(\" \")\n",
    "print('matthews_corrcoef -->{}'.format(matthews_corrcoef(y_test_undersample, y_pred_undersample_svm)))\n",
    "\n"
   ]
  },
  {
   "cell_type": "code",
   "execution_count": 157,
   "metadata": {},
   "outputs": [
    {
     "name": "stdout",
     "output_type": "stream",
     "text": [
      "The accuracy of logistic regression is 0.9729293213019206\n"
     ]
    },
    {
     "data": {
      "image/png": "[encoded data removed]",
      "text/plain": [
       "<Figure size 432x288 with 2 Axes>"
      ]
     },
     "metadata": {
      "needs_background": "light"
     },
     "output_type": "display_data"
    }
   ],
   "source": [
    "#On Whole Data\n",
    "y_pred_svm = grid_svm.predict(X_test)\n",
    "\n",
    "# Compute confusion matrix\n",
    "cnf_matrix = confusion_matrix(y_test,y_pred_svm)\n",
    "np.set_printoptions(precision=2)\n",
    "\n",
    "log_score=(accuracy_score(y_test, y_pred_svm))\n",
    "print('The accuracy of logistic regression is {}'.format(accuracy_score(y_test, y_pred_svm)))\n",
    "\n",
    "# Plot non-normalized confusion matrix\n",
    "class_names = [0,1]\n",
    "plt.figure()\n",
    "plot_confusion_matrix(cnf_matrix\n",
    "                      , classes=class_names\n",
    "                      , title='Confusion matrix-SVM')\n",
    "plt.show()"
   ]
  },
  {
   "cell_type": "code",
   "execution_count": 158,
   "metadata": {},
   "outputs": [
    {
     "name": "stdout",
     "output_type": "stream",
     "text": [
      "In case of whole data: \n",
      " \n",
      "The accuracy of SVM is 0.9729293213019206\n",
      " \n",
      "Precision-->0.05614754098360656\n",
      " \n",
      "F_1_Score -->0.10591418631619638\n",
      " \n",
      "recall_Score -->0.9319727891156463\n",
      " \n",
      "matthews_corrcoef -->0.22517318354042365\n"
     ]
    }
   ],
   "source": [
    "\n",
    "print('In case of whole data: ')\n",
    "print(\" \")\n",
    "print('The accuracy of SVM is {}'.format(accuracy_score(y_test, y_pred_svm)))\n",
    "print(\" \")\n",
    "print('Precision-->{}'.format(precision_score(y_test,y_pred_svm)))\n",
    "print(\" \")\n",
    "print('F_1_Score -->{}'.format(f1_score(y_test,y_pred_svm)))\n",
    "print(\" \")\n",
    "print('recall_Score -->{}'.format(recall_score(y_test,y_pred_svm)))\n",
    "print(\" \")\n",
    "print('matthews_corrcoef -->{}'.format(matthews_corrcoef(y_test,y_pred_svm)))\n",
    "\n",
    "\n"
   ]
  },
  {
   "cell_type": "code",
   "execution_count": 159,
   "metadata": {},
   "outputs": [
    {
     "name": "stdout",
     "output_type": "stream",
     "text": [
      "AUC= 0.9798880364918101\n"
     ]
    },
    {
     "data": {
      "image/png": "[encoded data removed]",
      "text/plain": [
       "<Figure size 432x288 with 1 Axes>"
      ]
     },
     "metadata": {
      "needs_background": "light"
     },
     "output_type": "display_data"
    }
   ],
   "source": [
    "# ROC CURVE\n",
    "\n",
    "y_pred_undersample_svm = grid_svm.fit(X_train_undersample,y_train_undersample.values.ravel()).decision_function(X_test_undersample.values)\n",
    "\n",
    "fpr, tpr, thresholds = roc_curve(y_test_undersample.values.ravel(),y_pred_undersample_svm)\n",
    "roc_auc = auc(fpr, tpr)\n",
    "print(\"AUC=\",roc_auc)\n",
    "# Plot ROC\n",
    "plt.title('Receiver Operating Characteristic')\n",
    "plt.plot(fpr, tpr, 'b',label='AUC = %0.3f'% roc_auc)\n",
    "plt.legend(loc='lower right')\n",
    "plt.plot([0,1],[0,1],'r--')\n",
    "plt.xlim([-0.1,1.0])\n",
    "plt.ylim([-0.1,1.01])\n",
    "plt.ylabel('True Positive Rate')\n",
    "plt.xlabel('False Positive Rate')\n",
    "plt.show()"
   ]
  },
  {
   "cell_type": "code",
   "execution_count": null,
   "metadata": {},
   "outputs": [],
   "source": []
  },
  {
   "cell_type": "code",
   "execution_count": null,
   "metadata": {},
   "outputs": [],
   "source": []
  },
  {
   "cell_type": "code",
   "execution_count": 160,
   "metadata": {},
   "outputs": [],
   "source": [
    "#Naive Bayes"
   ]
  },
  {
   "cell_type": "code",
   "execution_count": 161,
   "metadata": {},
   "outputs": [
    {
     "data": {
      "text/plain": [
       "GridSearchCV(cv=3, estimator=GaussianNB(), n_jobs=1,\n",
       "             param_grid={'var_smoothing': array([1.00e+00, 8.11e-01, 6.58e-01, 5.34e-01, 4.33e-01, 3.51e-01,\n",
       "       2.85e-01, 2.31e-01, 1.87e-01, 1.52e-01, 1.23e-01, 1.00e-01,\n",
       "       8.11e-02, 6.58e-02, 5.34e-02, 4.33e-02, 3.51e-02, 2.85e-02,\n",
       "       2.31e-02, 1.87e-02, 1.52e-02, 1.23e-02, 1.00e-02, 8.11e-03,\n",
       "       6.58e-03, 5.34e-03, 4.33e-03, 3.51e-03, 2.85e-03, 2.31...\n",
       "       3.51e-06, 2.85e-06, 2.31e-06, 1.87e-06, 1.52e-06, 1.23e-06,\n",
       "       1.00e-06, 8.11e-07, 6.58e-07, 5.34e-07, 4.33e-07, 3.51e-07,\n",
       "       2.85e-07, 2.31e-07, 1.87e-07, 1.52e-07, 1.23e-07, 1.00e-07,\n",
       "       8.11e-08, 6.58e-08, 5.34e-08, 4.33e-08, 3.51e-08, 2.85e-08,\n",
       "       2.31e-08, 1.87e-08, 1.52e-08, 1.23e-08, 1.00e-08, 8.11e-09,\n",
       "       6.58e-09, 5.34e-09, 4.33e-09, 3.51e-09, 2.85e-09, 2.31e-09,\n",
       "       1.87e-09, 1.52e-09, 1.23e-09, 1.00e-09])})"
      ]
     },
     "execution_count": 161,
     "metadata": {},
     "output_type": "execute_result"
    }
   ],
   "source": [
    "from sklearn.naive_bayes import GaussianNB\n",
    "param_grid_nb = {'var_smoothing':np.logspace(0,-9,num=100)} \n",
    "              \n",
    "grid_nb = GridSearchCV(GaussianNB(),param_grid_nb,n_jobs=+1,cv=3)\n",
    "grid_nb.fit(X_train_undersample,y_train_undersample.values.ravel())\n"
   ]
  },
  {
   "cell_type": "code",
   "execution_count": 162,
   "metadata": {},
   "outputs": [
    {
     "data": {
      "text/plain": [
       "GaussianNB(var_smoothing=0.0015199110829529332)"
      ]
     },
     "execution_count": 162,
     "metadata": {},
     "output_type": "execute_result"
    }
   ],
   "source": [
    "grid_nb.best_estimator_"
   ]
  },
  {
   "cell_type": "code",
   "execution_count": 163,
   "metadata": {},
   "outputs": [
    {
     "name": "stdout",
     "output_type": "stream",
     "text": [
      "Accuracy Score 0.8883248730964467\n"
     ]
    }
   ],
   "source": [
    "y_pred_undersample_nb = grid_nb.predict(X_test_undersample)\n",
    "print('Accuracy Score',accuracy_score(y_test_undersample,y_pred_undersample_nb))"
   ]
  },
  {
   "cell_type": "code",
   "execution_count": 164,
   "metadata": {},
   "outputs": [
    {
     "name": "stdout",
     "output_type": "stream",
     "text": [
      "The accuracy score  of Naive Bayes for undersample data is 0.8883248730964467\n"
     ]
    },
    {
     "data": {
      "image/png": "[encoded data removed]",
      "text/plain": [
       "<Figure size 432x288 with 2 Axes>"
      ]
     },
     "metadata": {
      "needs_background": "light"
     },
     "output_type": "display_data"
    }
   ],
   "source": [
    "# Compute confusion matrix\n",
    "cnf_matrix = confusion_matrix(y_test_undersample,y_pred_undersample_nb)\n",
    "np.set_printoptions(precision=2)\n",
    "\n",
    "print('The accuracy score  of Naive Bayes for undersample data is {}'.format(accuracy_score(y_test_undersample,y_pred_undersample_nb)))\n",
    "\n",
    "# Plot non-normalized confusion matrix\n",
    "class_names = [0,1]\n",
    "plt.figure()\n",
    "plot_confusion_matrix(cnf_matrix\n",
    "                      , classes=class_names\n",
    "                      , title='Confusion matrix-NB')\n",
    "plt.show()"
   ]
  },
  {
   "cell_type": "code",
   "execution_count": 165,
   "metadata": {},
   "outputs": [
    {
     "name": "stdout",
     "output_type": "stream",
     "text": [
      "The accuracy of Naive Bayes is 0.8883248730964467\n",
      " \n",
      "Precision-->0.9156626506024096\n",
      " \n",
      "F_1_Score -->0.8735632183908046\n",
      " \n",
      "recall_Score -->0.8351648351648352\n",
      " \n",
      "matthews_corrcoef -->0.7765693943809088\n"
     ]
    }
   ],
   "source": [
    "from sklearn.metrics import recall_score,f1_score,precision_score,classification_report,matthews_corrcoef\n",
    "\n",
    "\n",
    "print('The accuracy of Naive Bayes is {}'.format(accuracy_score(y_test_undersample, y_pred_undersample_nb)))\n",
    "print(\" \")\n",
    "print('Precision-->{}'.format(precision_score(y_test_undersample, y_pred_undersample_nb)))\n",
    "print(\" \")\n",
    "print('F_1_Score -->{}'.format(f1_score(y_test_undersample, y_pred_undersample_nb)))\n",
    "print(\" \")\n",
    "print('recall_Score -->{}'.format(recall_score(y_test_undersample, y_pred_undersample_nb)))\n",
    "print(\" \")\n",
    "print('matthews_corrcoef -->{}'.format(matthews_corrcoef(y_test_undersample, y_pred_undersample_nb)))\n",
    "\n"
   ]
  },
  {
   "cell_type": "code",
   "execution_count": 166,
   "metadata": {},
   "outputs": [
    {
     "name": "stdout",
     "output_type": "stream",
     "text": [
      "The accuracy of NB is 0.9654272438935899\n"
     ]
    },
    {
     "data": {
      "image/png": "[encoded data removed]",
      "text/plain": [
       "<Figure size 432x288 with 2 Axes>"
      ]
     },
     "metadata": {
      "needs_background": "light"
     },
     "output_type": "display_data"
    }
   ],
   "source": [
    "#On Whole Data\n",
    "y_pred_nb = grid_nb.predict(X_test)\n",
    "\n",
    "# Compute confusion matrix\n",
    "cnf_matrix = confusion_matrix(y_test,y_pred_nb)\n",
    "np.set_printoptions(precision=2)\n",
    "\n",
    "log_score=(accuracy_score(y_test, y_pred_nb))\n",
    "print('The accuracy of NB is {}'.format(accuracy_score(y_test, y_pred_nb)))\n",
    "\n",
    "# Plot non-normalized confusion matrix\n",
    "class_names = [0,1]\n",
    "plt.figure()\n",
    "plot_confusion_matrix(cnf_matrix\n",
    "                      , classes=class_names\n",
    "                      , title='Confusion matrix-NB')\n",
    "plt.show()"
   ]
  },
  {
   "cell_type": "code",
   "execution_count": 167,
   "metadata": {},
   "outputs": [
    {
     "name": "stdout",
     "output_type": "stream",
     "text": [
      "The accuracy of Naive Bayes is 0.9654272438935899\n",
      " \n",
      "Precision-->0.040589198036006545\n",
      " \n",
      "F_1_Score -->0.07745159275452843\n",
      " \n",
      "recall_Score -->0.8435374149659864\n",
      " \n",
      "matthews_corrcoef -->0.18060414830759833\n"
     ]
    }
   ],
   "source": [
    "from sklearn.metrics import recall_score,f1_score,precision_score,classification_report,matthews_corrcoef\n",
    "\n",
    "\n",
    "\n",
    "print('The accuracy of Naive Bayes is {}'.format(accuracy_score(y_test, y_pred_nb)))\n",
    "print(\" \")\n",
    "print('Precision-->{}'.format(precision_score(y_test,y_pred_nb)))\n",
    "print(\" \")\n",
    "print('F_1_Score -->{}'.format(f1_score(y_test,y_pred_nb)))\n",
    "print(\" \")\n",
    "print('recall_Score -->{}'.format(recall_score(y_test,y_pred_nb)))\n",
    "print(\" \")\n",
    "print('matthews_corrcoef -->{}'.format(matthews_corrcoef(y_test,y_pred_nb)))\n",
    "\n",
    "\n"
   ]
  },
  {
   "cell_type": "code",
   "execution_count": 168,
   "metadata": {},
   "outputs": [
    {
     "name": "stdout",
     "output_type": "stream",
     "text": [
      "AUC= 0.9483723823346465\n"
     ]
    },
    {
     "data": {
      "image/png": "[encoded data removed]",
      "text/plain": [
       "<Figure size 432x288 with 1 Axes>"
      ]
     },
     "metadata": {
      "needs_background": "light"
     },
     "output_type": "display_data"
    }
   ],
   "source": [
    "# ROC CURVE\n",
    "\n",
    "y_pred_undersample_nb = grid_nb.fit(X_train_undersample,y_train_undersample.values.ravel())\n",
    "\n",
    "y_scores = grid_nb.predict_proba(X_test_undersample)\n",
    "fpr, tpr, threshold = roc_curve(y_test_undersample, y_scores[:, 1])\n",
    "roc_auc = auc(fpr, tpr)\n",
    "print(\"AUC=\",roc_auc)\n",
    "\n",
    "\n",
    "\n",
    "plt.title('Receiver Operating Characteristic')\n",
    "plt.plot(fpr, tpr, 'b', label = 'AUC = %0.2f' % roc_auc)\n",
    "plt.legend(loc = 'lower right')\n",
    "plt.plot([0,1],[0,1],'r--')\n",
    "plt.xlim([-0.1,1.0])\n",
    "plt.ylim([-0.1,1.01])\n",
    "plt.ylabel('True Positive Rate')\n",
    "plt.xlabel('False Positive Rate')\n",
    "plt.title('ROC Curve of Naive Bayes')\n",
    "plt.show()"
   ]
  },
  {
   "cell_type": "code",
   "execution_count": null,
   "metadata": {},
   "outputs": [],
   "source": []
  },
  {
   "cell_type": "code",
   "execution_count": null,
   "metadata": {},
   "outputs": [],
   "source": []
  },
  {
   "cell_type": "code",
   "execution_count": 169,
   "metadata": {},
   "outputs": [],
   "source": [
    "#K Nearest Neighbor Classifier\n",
    "\n"
   ]
  },
  {
   "cell_type": "code",
   "execution_count": 170,
   "metadata": {},
   "outputs": [
    {
     "data": {
      "text/plain": [
       "GridSearchCV(cv=3, estimator=KNeighborsClassifier(), n_jobs=1,\n",
       "             param_grid={'metric': ['euclidean', 'manhattan'],\n",
       "                         'n_neighbors': [3, 5, 7, 11, 19],\n",
       "                         'weights': ['uniform', 'distance']})"
      ]
     },
     "execution_count": 170,
     "metadata": {},
     "output_type": "execute_result"
    }
   ],
   "source": [
    "param_grid_knn = {\n",
    "    'n_neighbors':[3,5,7,11,19],\n",
    "    'weights':['uniform','distance'],\n",
    "    'metric':['euclidean','manhattan']\n",
    "} \n",
    "              \n",
    "grid_knn = GridSearchCV(KNeighborsClassifier(),param_grid_knn,n_jobs=+1,cv=3)\n",
    "grid_knn.fit(X_train_undersample,y_train_undersample.values.ravel())\n"
   ]
  },
  {
   "cell_type": "code",
   "execution_count": 171,
   "metadata": {},
   "outputs": [
    {
     "data": {
      "text/plain": [
       "KNeighborsClassifier(metric='euclidean', n_neighbors=3)"
      ]
     },
     "execution_count": 171,
     "metadata": {},
     "output_type": "execute_result"
    }
   ],
   "source": [
    "grid_knn.best_estimator_"
   ]
  },
  {
   "cell_type": "code",
   "execution_count": 172,
   "metadata": {},
   "outputs": [
    {
     "name": "stdout",
     "output_type": "stream",
     "text": [
      "Accuracy Score 0.9238578680203046\n"
     ]
    }
   ],
   "source": [
    "y_pred_undersample_knn = grid_knn.predict(X_test_undersample)\n",
    "print('Accuracy Score',accuracy_score(y_test_undersample,y_pred_undersample_knn))"
   ]
  },
  {
   "cell_type": "code",
   "execution_count": 173,
   "metadata": {},
   "outputs": [
    {
     "name": "stdout",
     "output_type": "stream",
     "text": [
      "The accuracy score  of KNN for undersample data is 0.9238578680203046\n"
     ]
    },
    {
     "data": {
      "image/png": "[encoded data removed]",
      "text/plain": [
       "<Figure size 432x288 with 2 Axes>"
      ]
     },
     "metadata": {
      "needs_background": "light"
     },
     "output_type": "display_data"
    }
   ],
   "source": [
    "# Compute confusion matrix\n",
    "cnf_matrix = confusion_matrix(y_test_undersample,y_pred_undersample_knn)\n",
    "np.set_printoptions(precision=2)\n",
    "\n",
    "print('The accuracy score  of KNN for undersample data is {}'.format(accuracy_score(y_test_undersample,y_pred_undersample_knn)))\n",
    "\n",
    "# Plot non-normalized confusion matrix\n",
    "class_names = [0,1]\n",
    "plt.figure()\n",
    "plot_confusion_matrix(cnf_matrix\n",
    "                      , classes=class_names\n",
    "                      , title='Confusion matrix-KNN')\n",
    "plt.show()"
   ]
  },
  {
   "cell_type": "code",
   "execution_count": 174,
   "metadata": {},
   "outputs": [
    {
     "name": "stdout",
     "output_type": "stream",
     "text": [
      "Accuracy -->0.9238578680203046\n",
      " \n",
      "Precision-->0.8877551020408163\n",
      " \n",
      "Recall-->0.9560439560439561\n",
      " \n",
      "F_1_Score -->0.9206349206349207\n",
      " \n",
      "matthews_corrcoef -->0.849807156821831\n"
     ]
    }
   ],
   "source": [
    "from sklearn.metrics import recall_score,f1_score,precision_score,classification_report,matthews_corrcoef\n",
    "\n",
    "print('Accuracy -->{}'.format(accuracy_score(y_test_undersample,y_pred_undersample_knn)))\n",
    "print(\" \")\n",
    "print('Precision-->{}'.format(precision_score(y_test_undersample,y_pred_undersample_knn)))\n",
    "print(\" \")\n",
    "print('Recall-->{}'.format(recall_score(y_test_undersample, y_pred_undersample_knn)))\n",
    "print(\" \")\n",
    "print('F_1_Score -->{}'.format(f1_score(y_test_undersample,y_pred_undersample_knn)))\n",
    "print(\" \")\n",
    "print('matthews_corrcoef -->{}'.format(matthews_corrcoef(y_test_undersample, y_pred_undersample_knn)))"
   ]
  },
  {
   "cell_type": "code",
   "execution_count": 175,
   "metadata": {},
   "outputs": [
    {
     "name": "stdout",
     "output_type": "stream",
     "text": [
      "The accuracy of KNN is 0.9597509450744941\n"
     ]
    },
    {
     "data": {
      "image/png": "[encoded data removed]",
      "text/plain": [
       "<Figure size 432x288 with 2 Axes>"
      ]
     },
     "metadata": {
      "needs_background": "light"
     },
     "output_type": "display_data"
    }
   ],
   "source": [
    "#On Whole Data\n",
    "y_pred_knn = grid_knn.predict(X_test)\n",
    "\n",
    "# Compute confusion matrix\n",
    "cnf_matrix = confusion_matrix(y_test,y_pred_knn)\n",
    "np.set_printoptions(precision=2)\n",
    "\n",
    "log_score=(accuracy_score(y_test, y_pred_knn))\n",
    "print('The accuracy of KNN is {}'.format(accuracy_score(y_test, y_pred_knn)))\n",
    "\n",
    "# Plot non-normalized confusion matrix\n",
    "class_names = [0,1]\n",
    "plt.figure()\n",
    "plot_confusion_matrix(cnf_matrix\n",
    "                      , classes=class_names\n",
    "                      , title='Confusion matrix-knn')\n",
    "plt.show()"
   ]
  },
  {
   "cell_type": "code",
   "execution_count": 176,
   "metadata": {},
   "outputs": [
    {
     "name": "stdout",
     "output_type": "stream",
     "text": [
      "Accuracy -->0.9597509450744941\n",
      " \n",
      "Precision-->0.03841839596186203\n",
      " \n",
      "Recall-->0.9319727891156463\n",
      " \n",
      "F_1_Score -->0.0737947751144627\n",
      " \n",
      "matthews_corrcoef -->0.18480129520544344\n"
     ]
    }
   ],
   "source": [
    "\n",
    "\n",
    "print('Accuracy -->{}'.format(accuracy_score(y_test,y_pred_knn)))\n",
    "print(\" \")\n",
    "print('Precision-->{}'.format(precision_score(y_test,y_pred_knn)))\n",
    "print(\" \")\n",
    "print('Recall-->{}'.format(recall_score(y_test,y_pred_knn)))\n",
    "print(\" \")\n",
    "print('F_1_Score -->{}'.format(f1_score(y_test,y_pred_knn)))\n",
    "print(\" \")\n",
    "print('matthews_corrcoef -->{}'.format(matthews_corrcoef(y_test, y_pred_knn)))\n",
    "\n"
   ]
  },
  {
   "cell_type": "code",
   "execution_count": 177,
   "metadata": {},
   "outputs": [
    {
     "name": "stdout",
     "output_type": "stream",
     "text": [
      "AUC= 0.9647522289031724\n"
     ]
    },
    {
     "data": {
      "image/png": "[encoded data removed]",
      "text/plain": [
       "<Figure size 432x288 with 1 Axes>"
      ]
     },
     "metadata": {
      "needs_background": "light"
     },
     "output_type": "display_data"
    }
   ],
   "source": [
    "# ROC CURVE\n",
    "\n",
    "grid_knn.fit(X_train_undersample,y_train_undersample.values.ravel())\n",
    "y_scores = grid_knn.predict_proba(X_test_undersample)\n",
    "fpr, tpr, threshold = roc_curve(y_test_undersample, y_scores[:, 1])\n",
    "roc_auc = auc(fpr, tpr)\n",
    "print(\"AUC=\",roc_auc)\n",
    "\n",
    "\n",
    "\n",
    "plt.title('Receiver Operating Characteristic')\n",
    "plt.plot(fpr, tpr, 'b', label = 'AUC = %0.2f' % roc_auc)\n",
    "plt.legend(loc = 'lower right')\n",
    "plt.plot([0,1],[0,1],'r--')\n",
    "plt.xlim([-0.1,1.0])\n",
    "plt.ylim([-0.1,1.01])\n",
    "plt.ylabel('True Positive Rate')\n",
    "plt.xlabel('False Positive Rate')\n",
    "plt.title('ROC Curve of kNN')\n",
    "plt.show()"
   ]
  },
  {
   "cell_type": "code",
   "execution_count": null,
   "metadata": {},
   "outputs": [],
   "source": []
  },
  {
   "cell_type": "code",
   "execution_count": 178,
   "metadata": {},
   "outputs": [],
   "source": [
    "#MLP Classifier"
   ]
  },
  {
   "cell_type": "code",
   "execution_count": 179,
   "metadata": {},
   "outputs": [],
   "source": [
    "\n",
    "from sklearn.neural_network import MLPClassifier\n",
    "clf=MLPClassifier()\n",
    "param_grid_mlp = {\n",
    "    'hidden_layer_sizes': [(50,50), (100,50)],\n",
    "    'activation': ['tanh', 'relu'],\n",
    "    'solver': ['sgd', 'adam'],\n",
    "    'alpha': [0.0001, 0.05],\n",
    "    'learning_rate': ['constant','adaptive'],\n",
    "}"
   ]
  },
  {
   "cell_type": "code",
   "execution_count": 180,
   "metadata": {},
   "outputs": [
    {
     "name": "stderr",
     "output_type": "stream",
     "text": [
      "C:\\ProgramData\\Anaconda3\\lib\\site-packages\\sklearn\\neural_network\\_multilayer_perceptron.py:582: ConvergenceWarning: Stochastic Optimizer: Maximum iterations (200) reached and the optimization hasn't converged yet.\n",
      "  warnings.warn(\n"
     ]
    }
   ],
   "source": [
    "from sklearn.model_selection import GridSearchCV\n",
    "gridsearchcv = GridSearchCV(clf, param_grid_mlp, n_jobs=-1, cv=3)\n",
    "gscv=gridsearchcv.fit(X_train_undersample, y_train_undersample.values.ravel())"
   ]
  },
  {
   "cell_type": "code",
   "execution_count": 181,
   "metadata": {},
   "outputs": [
    {
     "data": {
      "text/plain": [
       "MLPClassifier(hidden_layer_sizes=(100, 50), learning_rate='adaptive',\n",
       "              solver='sgd')"
      ]
     },
     "execution_count": 181,
     "metadata": {},
     "output_type": "execute_result"
    }
   ],
   "source": [
    "gridsearchcv.best_estimator_"
   ]
  },
  {
   "cell_type": "code",
   "execution_count": 182,
   "metadata": {},
   "outputs": [
    {
     "name": "stdout",
     "output_type": "stream",
     "text": [
      "Accuracy Score 0.934010152284264\n"
     ]
    }
   ],
   "source": [
    "y_pred_undersample_mlp = gridsearchcv.predict(X_test_undersample)\n",
    "print('Accuracy Score',accuracy_score(y_test_undersample,y_pred_undersample_mlp))"
   ]
  },
  {
   "cell_type": "code",
   "execution_count": 183,
   "metadata": {},
   "outputs": [
    {
     "name": "stdout",
     "output_type": "stream",
     "text": [
      "The accuracy score  of MLP for undersample data is 0.934010152284264\n"
     ]
    },
    {
     "data": {
      "image/png": "[encoded data removed]",
      "text/plain": [
       "<Figure size 432x288 with 2 Axes>"
      ]
     },
     "metadata": {
      "needs_background": "light"
     },
     "output_type": "display_data"
    }
   ],
   "source": [
    "# Compute confusion matrix\n",
    "cnf_matrix = confusion_matrix(y_test_undersample,y_pred_undersample_mlp)\n",
    "np.set_printoptions(precision=2)\n",
    "\n",
    "print('The accuracy score  of MLP for undersample data is {}'.format(accuracy_score(y_test_undersample,y_pred_undersample_mlp)))\n",
    "\n",
    "# Plot non-normalized confusion matrix\n",
    "class_names = [0,1]\n",
    "plt.figure()\n",
    "plot_confusion_matrix(cnf_matrix\n",
    "                      , classes=class_names\n",
    "                      , title='Confusion matrix-MLP')\n",
    "plt.show()"
   ]
  },
  {
   "cell_type": "code",
   "execution_count": 184,
   "metadata": {},
   "outputs": [
    {
     "name": "stdout",
     "output_type": "stream",
     "text": [
      "Accuracy -->0.934010152284264\n",
      " \n",
      "Precision-->0.9239130434782609\n",
      " \n",
      "Recall-->0.9340659340659341\n",
      " \n",
      "F_1_Score -->0.9289617486338797\n",
      " \n",
      "matthews_corrcoef -->0.8673989642101423\n"
     ]
    }
   ],
   "source": [
    "from sklearn.metrics import recall_score,f1_score,precision_score,classification_report,matthews_corrcoef\n",
    "\n",
    "print('Accuracy -->{}'.format(accuracy_score(y_test_undersample,y_pred_undersample_mlp)))\n",
    "print(\" \")\n",
    "print('Precision-->{}'.format(precision_score(y_test_undersample,y_pred_undersample_mlp)))\n",
    "print(\" \")\n",
    "print('Recall-->{}'.format(recall_score(y_test_undersample, y_pred_undersample_mlp)))\n",
    "print(\" \")\n",
    "print('F_1_Score -->{}'.format(f1_score(y_test_undersample,y_pred_undersample_mlp)))\n",
    "print(\" \")\n",
    "print('matthews_corrcoef -->{}'.format(matthews_corrcoef(y_test_undersample, y_pred_undersample_mlp)))"
   ]
  },
  {
   "cell_type": "code",
   "execution_count": 185,
   "metadata": {},
   "outputs": [
    {
     "name": "stdout",
     "output_type": "stream",
     "text": [
      "The accuracy of MLP is 0.9743220626616574\n"
     ]
    },
    {
     "data": {
      "image/png": "[encoded data removed]",
      "text/plain": [
       "<Figure size 432x288 with 2 Axes>"
      ]
     },
     "metadata": {
      "needs_background": "light"
     },
     "output_type": "display_data"
    }
   ],
   "source": [
    "#On Whole Data\n",
    "y_pred_mlp = gridsearchcv.predict(X_test)\n",
    "\n",
    "# Compute confusion matrix\n",
    "cnf_matrix = confusion_matrix(y_test,y_pred_mlp)\n",
    "np.set_printoptions(precision=2)\n",
    "\n",
    "log_score=(accuracy_score(y_test, y_pred_mlp))\n",
    "print('The accuracy of MLP is {}'.format(accuracy_score(y_test, y_pred_mlp)))\n",
    "\n",
    "# Plot non-normalized confusion matrix\n",
    "class_names = [0,1]\n",
    "plt.figure()\n",
    "plot_confusion_matrix(cnf_matrix\n",
    "                      , classes=class_names\n",
    "                      , title='Confusion matrix-mlp')\n",
    "plt.show()"
   ]
  },
  {
   "cell_type": "code",
   "execution_count": 186,
   "metadata": {},
   "outputs": [
    {
     "name": "stdout",
     "output_type": "stream",
     "text": [
      "Accuracy -->0.9743220626616574\n",
      " \n",
      "Precision-->0.057883369330453564\n",
      " \n",
      "Recall-->0.9115646258503401\n",
      " \n",
      "F_1_Score -->0.10885458976441918\n",
      " \n",
      "matthews_corrcoef -->0.22615439473351695\n"
     ]
    }
   ],
   "source": [
    "\n",
    "print('Accuracy -->{}'.format(accuracy_score(y_test,y_pred_mlp)))\n",
    "print(\" \")\n",
    "print('Precision-->{}'.format(precision_score(y_test,y_pred_mlp)))\n",
    "print(\" \")\n",
    "print('Recall-->{}'.format(recall_score(y_test,y_pred_mlp)))\n",
    "print(\" \")\n",
    "print('F_1_Score -->{}'.format(f1_score(y_test,y_pred_mlp)))\n",
    "print(\" \")\n",
    "print('matthews_corrcoef -->{}'.format(matthews_corrcoef(y_test, y_pred_mlp)))\n",
    "\n"
   ]
  },
  {
   "cell_type": "code",
   "execution_count": 187,
   "metadata": {},
   "outputs": [
    {
     "name": "stdout",
     "output_type": "stream",
     "text": [
      "AUC= 0.9737715115073605\n"
     ]
    },
    {
     "name": "stderr",
     "output_type": "stream",
     "text": [
      "C:\\ProgramData\\Anaconda3\\lib\\site-packages\\sklearn\\neural_network\\_multilayer_perceptron.py:582: ConvergenceWarning: Stochastic Optimizer: Maximum iterations (200) reached and the optimization hasn't converged yet.\n",
      "  warnings.warn(\n"
     ]
    },
    {
     "data": {
      "image/png": "[encoded data removed]",
      "text/plain": [
       "<Figure size 432x288 with 1 Axes>"
      ]
     },
     "metadata": {
      "needs_background": "light"
     },
     "output_type": "display_data"
    }
   ],
   "source": [
    "# ROC CURVE\n",
    "\n",
    "gridsearchcv.fit(X_train_undersample,y_train_undersample.values.ravel())\n",
    "y_scores = gridsearchcv.predict_proba(X_test_undersample)\n",
    "fpr, tpr, threshold = roc_curve(y_test_undersample, y_scores[:, 1])\n",
    "roc_auc = auc(fpr, tpr)\n",
    "print(\"AUC=\",roc_auc)\n",
    "\n",
    "\n",
    "\n",
    "plt.title('Receiver Operating Characteristic')\n",
    "plt.plot(fpr, tpr, 'b', label = 'AUC = %0.2f' % roc_auc)\n",
    "plt.legend(loc = 'lower right')\n",
    "plt.plot([0,1],[0,1],'r--')\n",
    "plt.xlim([-0.1,1.0])\n",
    "plt.ylim([-0.1,1.01])\n",
    "plt.ylabel('True Positive Rate')\n",
    "plt.xlabel('False Positive Rate')\n",
    "plt.title('ROC Curve of MLP')\n",
    "plt.show()"
   ]
  },
  {
   "cell_type": "code",
   "execution_count": null,
   "metadata": {},
   "outputs": [],
   "source": []
  },
  {
   "cell_type": "code",
   "execution_count": null,
   "metadata": {},
   "outputs": [],
   "source": []
  },
  {
   "cell_type": "code",
   "execution_count": 188,
   "metadata": {},
   "outputs": [],
   "source": [
    "#Voting Ensemble\n",
    "\n",
    "from sklearn.ensemble import RandomForestClassifier,VotingClassifier\n",
    "\n",
    "rf = RandomForestClassifier(max_features = 'log2', n_estimators = 103, min_samples_leaf = 50, criterion = 'gini', random_state = 12)\n",
    "\n",
    "ensemble = VotingClassifier(estimators = [('rf',RandomForestClassifier() ), ('lr', LogisticRegression()),('knn', KNeighborsClassifier()), ('svc', SVC()),('nb',GaussianNB()),('mlp',MLPClassifier())], voting = 'hard')"
   ]
  },
  {
   "cell_type": "code",
   "execution_count": 189,
   "metadata": {},
   "outputs": [
    {
     "data": {
      "text/plain": [
       "\" Voting Ensemble\\n\\nfrom sklearn.ensemble import RandomForestClassifier,VotingClassifier\\n\\nrf = RandomForestClassifier(max_features = 'log2', n_estimators = 103, min_samples_leaf = 50, criterion = 'gini', random_state = 12)\\n\\nensemble = VotingClassifier(estimators = [('rf',RandomForestClassifier() ), ('lr', LogisticRegression()),('knn', KNeighborsClassifier()), ('svc', SVC()),('nb',GaussianNB())], voting = 'hard')\""
      ]
     },
     "execution_count": 189,
     "metadata": {},
     "output_type": "execute_result"
    }
   ],
   "source": [
    "''' Voting Ensemble\n",
    "\n",
    "from sklearn.ensemble import RandomForestClassifier,VotingClassifier\n",
    "\n",
    "rf = RandomForestClassifier(max_features = 'log2', n_estimators = 103, min_samples_leaf = 50, criterion = 'gini', random_state = 12)\n",
    "\n",
    "ensemble = VotingClassifier(estimators = [('rf',RandomForestClassifier() ), ('lr', LogisticRegression()),('knn', KNeighborsClassifier()), ('svc', SVC()),('nb',GaussianNB())], voting = 'hard')'''"
   ]
  },
  {
   "cell_type": "code",
   "execution_count": 190,
   "metadata": {},
   "outputs": [
    {
     "name": "stderr",
     "output_type": "stream",
     "text": [
      "C:\\ProgramData\\Anaconda3\\lib\\site-packages\\sklearn\\neural_network\\_multilayer_perceptron.py:582: ConvergenceWarning: Stochastic Optimizer: Maximum iterations (200) reached and the optimization hasn't converged yet.\n",
      "  warnings.warn(\n"
     ]
    }
   ],
   "source": [
    "ensemble_pred = ensemble.fit(X_train_undersample,y_train_undersample.values.ravel()).predict(X_test.values)"
   ]
  },
  {
   "cell_type": "code",
   "execution_count": 191,
   "metadata": {},
   "outputs": [
    {
     "name": "stdout",
     "output_type": "stream",
     "text": [
      "The accuracy of Voting Ensemble is 0.9812974731692473\n",
      " \n",
      "Precision-->0.07746068724519511\n",
      " \n",
      "F_1_Score -->0.1427038626609442\n",
      " \n",
      "recall_Score -->0.9047619047619048\n",
      " \n",
      "matthews_corrcoef -->0.2617189402514903\n"
     ]
    }
   ],
   "source": [
    "ensemble_score=accuracy_score(y_test, ensemble_pred)\n",
    "print('The accuracy of Voting Ensemble is {}'.format(accuracy_score(y_test, ensemble_pred)))\n",
    "\n",
    "print(\" \")\n",
    "print('Precision-->{}'.format(precision_score(y_test,ensemble_pred)))\n",
    "print(\" \")\n",
    "print('F_1_Score -->{}'.format(f1_score(y_test,ensemble_pred)))\n",
    "print(\" \")\n",
    "print('recall_Score -->{}'.format(recall_score(y_test,ensemble_pred)))\n",
    "print(\" \")\n",
    "print('matthews_corrcoef -->{}'.format(matthews_corrcoef(y_test,ensemble_pred)))\n",
    "\n",
    "prec_score_3=(precision_score(y_test,ensemble_pred))\n",
    "\n",
    "\n"
   ]
  },
  {
   "cell_type": "code",
   "execution_count": null,
   "metadata": {},
   "outputs": [],
   "source": []
  },
  {
   "cell_type": "code",
   "execution_count": null,
   "metadata": {},
   "outputs": [],
   "source": []
  },
  {
   "cell_type": "code",
   "execution_count": 192,
   "metadata": {},
   "outputs": [],
   "source": [
    "# Make Comparison\n",
    "log_score=(accuracy_score(y_test, y_pred_log))\n",
    "nb_score=(accuracy_score(y_test, y_pred_nb))\n",
    "svc_score=(accuracy_score(y_test, y_pred_svm))\n",
    "knn_score=(accuracy_score(y_test, y_pred_knn))\n",
    "mlp_score=(accuracy_score(y_test, y_pred_mlp))\n",
    "ensemble_score=accuracy_score(y_test, ensemble_pred)"
   ]
  },
  {
   "cell_type": "code",
   "execution_count": 193,
   "metadata": {},
   "outputs": [
    {
     "data": {
      "image/png": "[encoded data removed]",
      "text/plain": [
       "<Figure size 432x360 with 1 Axes>"
      ]
     },
     "metadata": {
      "needs_background": "light"
     },
     "output_type": "display_data"
    }
   ],
   "source": [
    "## Comparison\n",
    "\n",
    "\n",
    "import numpy as np\n",
    "import matplotlib.pyplot as plt\n",
    " \n",
    "height = [round(nb_score,3),round(log_score,3),round(svc_score,3),round(knn_score,3),round(mlp_score,3), round(ensemble_score,3)]\n",
    "bars = ('Naive Bayes','Logistic Regression','Linear SVC','KNN','MLP','Voting Ensemble')\n",
    "fig, ax = plt.subplots(figsize = (6,5))\n",
    "ax.bar(2,height=0.5,width=0.3)\n",
    "y_pos = np.arange(len(bars))\n",
    "label= [nb_score, log_score,svc_score,knn_score, ensemble_score]\n",
    "log_score\n",
    "plt.bar(y_pos, height, color=['darkgoldenrod','mediumblue','forestgreen' ,'lightseagreen','pink','peru'])\n",
    "plt.xticks(y_pos, bars)\n",
    "for index,data in enumerate(height):\n",
    "    plt.text(x=index , y =data+0.01 , s=f\"{data}\" , fontdict=dict(fontsize=10))\n",
    "plt.tight_layout()\n",
    "plt.title('Performance Comparison among the Classifiers ')\n",
    "plt.show()"
   ]
  },
  {
   "cell_type": "code",
   "execution_count": null,
   "metadata": {},
   "outputs": [],
   "source": []
  }
 ],
 "metadata": {
  "kernelspec": {
   "display_name": "Python 3",
   "language": "python",
   "name": "python3"
  },
  "language_info": {
   "codemirror_mode": {
    "name": "ipython",
    "version": 3
   },
   "file_extension": ".py",
   "mimetype": "text/x-python",
   "name": "python",
   "nbconvert_exporter": "python",
   "pygments_lexer": "ipython3",
   "version": "3.8.3"
  }
 },
 "nbformat": 4,
 "nbformat_minor": 4
}
