{
 "cells": [
  {
   "cell_type": "code",
   "execution_count": 1,
   "metadata": {},
   "outputs": [],
   "source": [
    "#Import Libraries\n",
    "import pandas as pd\n",
    "import matplotlib.pyplot as plt\n",
    "import numpy as np\n",
    "\n",
    "%matplotlib inline"
   ]
  },
  {
   "cell_type": "code",
   "execution_count": 2,
   "metadata": {},
   "outputs": [
    {
     "data": {
      "text/html": [
       "<div>\n",
       "<style scoped>\n",
       "    .dataframe tbody tr th:only-of-type {\n",
       "        vertical-align: middle;\n",
       "    }\n",
       "\n",
       "    .dataframe tbody tr th {\n",
       "        vertical-align: top;\n",
       "    }\n",
       "\n",
       "    .dataframe thead th {\n",
       "        text-align: right;\n",
       "    }\n",
       "</style>\n",
       "<table border=\"1\" class=\"dataframe\">\n",
       "  <thead>\n",
       "    <tr style=\"text-align: right;\">\n",
       "      <th></th>\n",
       "      <th>Time</th>\n",
       "      <th>V1</th>\n",
       "      <th>V2</th>\n",
       "      <th>V3</th>\n",
       "      <th>V4</th>\n",
       "      <th>V5</th>\n",
       "      <th>V6</th>\n",
       "      <th>V7</th>\n",
       "      <th>V8</th>\n",
       "      <th>V9</th>\n",
       "      <th>...</th>\n",
       "      <th>V21</th>\n",
       "      <th>V22</th>\n",
       "      <th>V23</th>\n",
       "      <th>V24</th>\n",
       "      <th>V25</th>\n",
       "      <th>V26</th>\n",
       "      <th>V27</th>\n",
       "      <th>V28</th>\n",
       "      <th>Amount</th>\n",
       "      <th>Class</th>\n",
       "    </tr>\n",
       "  </thead>\n",
       "  <tbody>\n",
       "    <tr>\n",
       "      <th>0</th>\n",
       "      <td>0.0</td>\n",
       "      <td>-1.359807</td>\n",
       "      <td>-0.072781</td>\n",
       "      <td>2.536347</td>\n",
       "      <td>1.378155</td>\n",
       "      <td>-0.338321</td>\n",
       "      <td>0.462388</td>\n",
       "      <td>0.239599</td>\n",
       "      <td>0.098698</td>\n",
       "      <td>0.363787</td>\n",
       "      <td>...</td>\n",
       "      <td>-0.018307</td>\n",
       "      <td>0.277838</td>\n",
       "      <td>-0.110474</td>\n",
       "      <td>0.066928</td>\n",
       "      <td>0.128539</td>\n",
       "      <td>-0.189115</td>\n",
       "      <td>0.133558</td>\n",
       "      <td>-0.021053</td>\n",
       "      <td>149.62</td>\n",
       "      <td>0</td>\n",
       "    </tr>\n",
       "    <tr>\n",
       "      <th>1</th>\n",
       "      <td>0.0</td>\n",
       "      <td>1.191857</td>\n",
       "      <td>0.266151</td>\n",
       "      <td>0.166480</td>\n",
       "      <td>0.448154</td>\n",
       "      <td>0.060018</td>\n",
       "      <td>-0.082361</td>\n",
       "      <td>-0.078803</td>\n",
       "      <td>0.085102</td>\n",
       "      <td>-0.255425</td>\n",
       "      <td>...</td>\n",
       "      <td>-0.225775</td>\n",
       "      <td>-0.638672</td>\n",
       "      <td>0.101288</td>\n",
       "      <td>-0.339846</td>\n",
       "      <td>0.167170</td>\n",
       "      <td>0.125895</td>\n",
       "      <td>-0.008983</td>\n",
       "      <td>0.014724</td>\n",
       "      <td>2.69</td>\n",
       "      <td>0</td>\n",
       "    </tr>\n",
       "    <tr>\n",
       "      <th>2</th>\n",
       "      <td>1.0</td>\n",
       "      <td>-1.358354</td>\n",
       "      <td>-1.340163</td>\n",
       "      <td>1.773209</td>\n",
       "      <td>0.379780</td>\n",
       "      <td>-0.503198</td>\n",
       "      <td>1.800499</td>\n",
       "      <td>0.791461</td>\n",
       "      <td>0.247676</td>\n",
       "      <td>-1.514654</td>\n",
       "      <td>...</td>\n",
       "      <td>0.247998</td>\n",
       "      <td>0.771679</td>\n",
       "      <td>0.909412</td>\n",
       "      <td>-0.689281</td>\n",
       "      <td>-0.327642</td>\n",
       "      <td>-0.139097</td>\n",
       "      <td>-0.055353</td>\n",
       "      <td>-0.059752</td>\n",
       "      <td>378.66</td>\n",
       "      <td>0</td>\n",
       "    </tr>\n",
       "    <tr>\n",
       "      <th>3</th>\n",
       "      <td>1.0</td>\n",
       "      <td>-0.966272</td>\n",
       "      <td>-0.185226</td>\n",
       "      <td>1.792993</td>\n",
       "      <td>-0.863291</td>\n",
       "      <td>-0.010309</td>\n",
       "      <td>1.247203</td>\n",
       "      <td>0.237609</td>\n",
       "      <td>0.377436</td>\n",
       "      <td>-1.387024</td>\n",
       "      <td>...</td>\n",
       "      <td>-0.108300</td>\n",
       "      <td>0.005274</td>\n",
       "      <td>-0.190321</td>\n",
       "      <td>-1.175575</td>\n",
       "      <td>0.647376</td>\n",
       "      <td>-0.221929</td>\n",
       "      <td>0.062723</td>\n",
       "      <td>0.061458</td>\n",
       "      <td>123.50</td>\n",
       "      <td>0</td>\n",
       "    </tr>\n",
       "    <tr>\n",
       "      <th>4</th>\n",
       "      <td>2.0</td>\n",
       "      <td>-1.158233</td>\n",
       "      <td>0.877737</td>\n",
       "      <td>1.548718</td>\n",
       "      <td>0.403034</td>\n",
       "      <td>-0.407193</td>\n",
       "      <td>0.095921</td>\n",
       "      <td>0.592941</td>\n",
       "      <td>-0.270533</td>\n",
       "      <td>0.817739</td>\n",
       "      <td>...</td>\n",
       "      <td>-0.009431</td>\n",
       "      <td>0.798278</td>\n",
       "      <td>-0.137458</td>\n",
       "      <td>0.141267</td>\n",
       "      <td>-0.206010</td>\n",
       "      <td>0.502292</td>\n",
       "      <td>0.219422</td>\n",
       "      <td>0.215153</td>\n",
       "      <td>69.99</td>\n",
       "      <td>0</td>\n",
       "    </tr>\n",
       "  </tbody>\n",
       "</table>\n",
       "<p>5 rows × 31 columns</p>\n",
       "</div>"
      ],
      "text/plain": [
       "   Time        V1        V2        V3        V4        V5        V6        V7  \\\n",
       "0   0.0 -1.359807 -0.072781  2.536347  1.378155 -0.338321  0.462388  0.239599   \n",
       "1   0.0  1.191857  0.266151  0.166480  0.448154  0.060018 -0.082361 -0.078803   \n",
       "2   1.0 -1.358354 -1.340163  1.773209  0.379780 -0.503198  1.800499  0.791461   \n",
       "3   1.0 -0.966272 -0.185226  1.792993 -0.863291 -0.010309  1.247203  0.237609   \n",
       "4   2.0 -1.158233  0.877737  1.548718  0.403034 -0.407193  0.095921  0.592941   \n",
       "\n",
       "         V8        V9  ...       V21       V22       V23       V24       V25  \\\n",
       "0  0.098698  0.363787  ... -0.018307  0.277838 -0.110474  0.066928  0.128539   \n",
       "1  0.085102 -0.255425  ... -0.225775 -0.638672  0.101288 -0.339846  0.167170   \n",
       "2  0.247676 -1.514654  ...  0.247998  0.771679  0.909412 -0.689281 -0.327642   \n",
       "3  0.377436 -1.387024  ... -0.108300  0.005274 -0.190321 -1.175575  0.647376   \n",
       "4 -0.270533  0.817739  ... -0.009431  0.798278 -0.137458  0.141267 -0.206010   \n",
       "\n",
       "        V26       V27       V28  Amount  Class  \n",
       "0 -0.189115  0.133558 -0.021053  149.62      0  \n",
       "1  0.125895 -0.008983  0.014724    2.69      0  \n",
       "2 -0.139097 -0.055353 -0.059752  378.66      0  \n",
       "3 -0.221929  0.062723  0.061458  123.50      0  \n",
       "4  0.502292  0.219422  0.215153   69.99      0  \n",
       "\n",
       "[5 rows x 31 columns]"
      ]
     },
     "execution_count": 2,
     "metadata": {},
     "output_type": "execute_result"
    }
   ],
   "source": [
    "#Read the dataset\n",
    "data = pd.read_csv(\"creditcard.csv\")\n",
    "data.head()"
   ]
  },
  {
   "cell_type": "code",
   "execution_count": 3,
   "metadata": {},
   "outputs": [
    {
     "data": {
      "text/plain": [
       "Text(0, 0.5, 'Frequency')"
      ]
     },
     "execution_count": 3,
     "metadata": {},
     "output_type": "execute_result"
    },
    {
     "data": {
      "image/png": "[encoded data removed]",
      "text/plain": [
       "<Figure size 432x288 with 1 Axes>"
      ]
     },
     "metadata": {
      "needs_background": "light"
     },
     "output_type": "display_data"
    }
   ],
   "source": [
    "#Check Target Classes\n",
    "count_classes = pd.value_counts(data['Class'], sort = True).sort_index()\n",
    "count_classes.plot(kind = 'bar')\n",
    "plt.title(\"Fraud class histogram\")\n",
    "plt.xlabel(\"Class\")\n",
    "plt.ylabel(\"Frequency\")"
   ]
  },
  {
   "cell_type": "code",
   "execution_count": 4,
   "metadata": {},
   "outputs": [
    {
     "data": {
      "text/html": [
       "<div>\n",
       "<style scoped>\n",
       "    .dataframe tbody tr th:only-of-type {\n",
       "        vertical-align: middle;\n",
       "    }\n",
       "\n",
       "    .dataframe tbody tr th {\n",
       "        vertical-align: top;\n",
       "    }\n",
       "\n",
       "    .dataframe thead th {\n",
       "        text-align: right;\n",
       "    }\n",
       "</style>\n",
       "<table border=\"1\" class=\"dataframe\">\n",
       "  <thead>\n",
       "    <tr style=\"text-align: right;\">\n",
       "      <th></th>\n",
       "      <th>V1</th>\n",
       "      <th>V2</th>\n",
       "      <th>V3</th>\n",
       "      <th>V4</th>\n",
       "      <th>V5</th>\n",
       "      <th>V6</th>\n",
       "      <th>V7</th>\n",
       "      <th>V8</th>\n",
       "      <th>V9</th>\n",
       "      <th>V10</th>\n",
       "      <th>...</th>\n",
       "      <th>V21</th>\n",
       "      <th>V22</th>\n",
       "      <th>V23</th>\n",
       "      <th>V24</th>\n",
       "      <th>V25</th>\n",
       "      <th>V26</th>\n",
       "      <th>V27</th>\n",
       "      <th>V28</th>\n",
       "      <th>Class</th>\n",
       "      <th>normAmount</th>\n",
       "    </tr>\n",
       "  </thead>\n",
       "  <tbody>\n",
       "    <tr>\n",
       "      <th>0</th>\n",
       "      <td>-1.359807</td>\n",
       "      <td>-0.072781</td>\n",
       "      <td>2.536347</td>\n",
       "      <td>1.378155</td>\n",
       "      <td>-0.338321</td>\n",
       "      <td>0.462388</td>\n",
       "      <td>0.239599</td>\n",
       "      <td>0.098698</td>\n",
       "      <td>0.363787</td>\n",
       "      <td>0.090794</td>\n",
       "      <td>...</td>\n",
       "      <td>-0.018307</td>\n",
       "      <td>0.277838</td>\n",
       "      <td>-0.110474</td>\n",
       "      <td>0.066928</td>\n",
       "      <td>0.128539</td>\n",
       "      <td>-0.189115</td>\n",
       "      <td>0.133558</td>\n",
       "      <td>-0.021053</td>\n",
       "      <td>0</td>\n",
       "      <td>0.244964</td>\n",
       "    </tr>\n",
       "    <tr>\n",
       "      <th>1</th>\n",
       "      <td>1.191857</td>\n",
       "      <td>0.266151</td>\n",
       "      <td>0.166480</td>\n",
       "      <td>0.448154</td>\n",
       "      <td>0.060018</td>\n",
       "      <td>-0.082361</td>\n",
       "      <td>-0.078803</td>\n",
       "      <td>0.085102</td>\n",
       "      <td>-0.255425</td>\n",
       "      <td>-0.166974</td>\n",
       "      <td>...</td>\n",
       "      <td>-0.225775</td>\n",
       "      <td>-0.638672</td>\n",
       "      <td>0.101288</td>\n",
       "      <td>-0.339846</td>\n",
       "      <td>0.167170</td>\n",
       "      <td>0.125895</td>\n",
       "      <td>-0.008983</td>\n",
       "      <td>0.014724</td>\n",
       "      <td>0</td>\n",
       "      <td>-0.342475</td>\n",
       "    </tr>\n",
       "    <tr>\n",
       "      <th>2</th>\n",
       "      <td>-1.358354</td>\n",
       "      <td>-1.340163</td>\n",
       "      <td>1.773209</td>\n",
       "      <td>0.379780</td>\n",
       "      <td>-0.503198</td>\n",
       "      <td>1.800499</td>\n",
       "      <td>0.791461</td>\n",
       "      <td>0.247676</td>\n",
       "      <td>-1.514654</td>\n",
       "      <td>0.207643</td>\n",
       "      <td>...</td>\n",
       "      <td>0.247998</td>\n",
       "      <td>0.771679</td>\n",
       "      <td>0.909412</td>\n",
       "      <td>-0.689281</td>\n",
       "      <td>-0.327642</td>\n",
       "      <td>-0.139097</td>\n",
       "      <td>-0.055353</td>\n",
       "      <td>-0.059752</td>\n",
       "      <td>0</td>\n",
       "      <td>1.160686</td>\n",
       "    </tr>\n",
       "    <tr>\n",
       "      <th>3</th>\n",
       "      <td>-0.966272</td>\n",
       "      <td>-0.185226</td>\n",
       "      <td>1.792993</td>\n",
       "      <td>-0.863291</td>\n",
       "      <td>-0.010309</td>\n",
       "      <td>1.247203</td>\n",
       "      <td>0.237609</td>\n",
       "      <td>0.377436</td>\n",
       "      <td>-1.387024</td>\n",
       "      <td>-0.054952</td>\n",
       "      <td>...</td>\n",
       "      <td>-0.108300</td>\n",
       "      <td>0.005274</td>\n",
       "      <td>-0.190321</td>\n",
       "      <td>-1.175575</td>\n",
       "      <td>0.647376</td>\n",
       "      <td>-0.221929</td>\n",
       "      <td>0.062723</td>\n",
       "      <td>0.061458</td>\n",
       "      <td>0</td>\n",
       "      <td>0.140534</td>\n",
       "    </tr>\n",
       "    <tr>\n",
       "      <th>4</th>\n",
       "      <td>-1.158233</td>\n",
       "      <td>0.877737</td>\n",
       "      <td>1.548718</td>\n",
       "      <td>0.403034</td>\n",
       "      <td>-0.407193</td>\n",
       "      <td>0.095921</td>\n",
       "      <td>0.592941</td>\n",
       "      <td>-0.270533</td>\n",
       "      <td>0.817739</td>\n",
       "      <td>0.753074</td>\n",
       "      <td>...</td>\n",
       "      <td>-0.009431</td>\n",
       "      <td>0.798278</td>\n",
       "      <td>-0.137458</td>\n",
       "      <td>0.141267</td>\n",
       "      <td>-0.206010</td>\n",
       "      <td>0.502292</td>\n",
       "      <td>0.219422</td>\n",
       "      <td>0.215153</td>\n",
       "      <td>0</td>\n",
       "      <td>-0.073403</td>\n",
       "    </tr>\n",
       "  </tbody>\n",
       "</table>\n",
       "<p>5 rows × 30 columns</p>\n",
       "</div>"
      ],
      "text/plain": [
       "         V1        V2        V3        V4        V5        V6        V7  \\\n",
       "0 -1.359807 -0.072781  2.536347  1.378155 -0.338321  0.462388  0.239599   \n",
       "1  1.191857  0.266151  0.166480  0.448154  0.060018 -0.082361 -0.078803   \n",
       "2 -1.358354 -1.340163  1.773209  0.379780 -0.503198  1.800499  0.791461   \n",
       "3 -0.966272 -0.185226  1.792993 -0.863291 -0.010309  1.247203  0.237609   \n",
       "4 -1.158233  0.877737  1.548718  0.403034 -0.407193  0.095921  0.592941   \n",
       "\n",
       "         V8        V9       V10  ...       V21       V22       V23       V24  \\\n",
       "0  0.098698  0.363787  0.090794  ... -0.018307  0.277838 -0.110474  0.066928   \n",
       "1  0.085102 -0.255425 -0.166974  ... -0.225775 -0.638672  0.101288 -0.339846   \n",
       "2  0.247676 -1.514654  0.207643  ...  0.247998  0.771679  0.909412 -0.689281   \n",
       "3  0.377436 -1.387024 -0.054952  ... -0.108300  0.005274 -0.190321 -1.175575   \n",
       "4 -0.270533  0.817739  0.753074  ... -0.009431  0.798278 -0.137458  0.141267   \n",
       "\n",
       "        V25       V26       V27       V28  Class  normAmount  \n",
       "0  0.128539 -0.189115  0.133558 -0.021053      0    0.244964  \n",
       "1  0.167170  0.125895 -0.008983  0.014724      0   -0.342475  \n",
       "2 -0.327642 -0.139097 -0.055353 -0.059752      0    1.160686  \n",
       "3  0.647376 -0.221929  0.062723  0.061458      0    0.140534  \n",
       "4 -0.206010  0.502292  0.219422  0.215153      0   -0.073403  \n",
       "\n",
       "[5 rows x 30 columns]"
      ]
     },
     "execution_count": 4,
     "metadata": {},
     "output_type": "execute_result"
    }
   ],
   "source": [
    "from sklearn.preprocessing import StandardScaler\n",
    "\n",
    "data['normAmount'] = StandardScaler().fit_transform(data['Amount'].values.reshape(-1, 1))\n",
    "data = data.drop(['Time','Amount'],axis=1)\n",
    "data.head()"
   ]
  },
  {
   "cell_type": "code",
   "execution_count": 5,
   "metadata": {},
   "outputs": [],
   "source": [
    "X = data.loc[:, data.columns != 'Class']\n",
    "y = data.loc[:, data.columns == 'Class']"
   ]
  },
  {
   "cell_type": "code",
   "execution_count": 6,
   "metadata": {},
   "outputs": [],
   "source": [
    "from collections import Counter\n",
    "from sklearn.datasets import make_classification\n",
    "from imblearn.over_sampling import RandomOverSampler"
   ]
  },
  {
   "cell_type": "code",
   "execution_count": 7,
   "metadata": {},
   "outputs": [],
   "source": [
    "oversample = RandomOverSampler(sampling_strategy='minority')\n",
    "# fit and apply the transform\n",
    "X_over, y_over = oversample.fit_resample(X, y)\n",
    "\n"
   ]
  },
  {
   "cell_type": "code",
   "execution_count": 8,
   "metadata": {},
   "outputs": [
    {
     "name": "stdout",
     "output_type": "stream",
     "text": [
      "Percentage of normal transactions:  0.5\n",
      "Percentage of fraud transactions:  0.5\n",
      "Total number of transactions in resampled data:  568630\n"
     ]
    }
   ],
   "source": [
    "# Number of data points in the minority class\n",
    "number_records_fraud = len(data[data.Class == 0])\n",
    "fraud_indices = np.array(data[data.Class == 0].index)\n",
    "\n",
    "# Picking the indices of the normal classes\n",
    "normal_indices = data[data.Class == 1].index\n",
    "\n",
    "# Out of the indices we picked, randomly select \"x\" number (number_records_fraud)\n",
    "random_normal_indices = np.random.choice(normal_indices, number_records_fraud, replace = True)\n",
    "random_normal_indices = np.array(random_normal_indices)\n",
    "\n",
    "# Appending the 2 indices\n",
    "over_sample_indices = np.concatenate([fraud_indices,random_normal_indices])\n",
    "\n",
    "# Under sample dataset\n",
    "over_sample_data = data.iloc[over_sample_indices,:]\n",
    "\n",
    "X_over = over_sample_data.loc[:, over_sample_data.columns != 'Class']\n",
    "y_over = over_sample_data.loc[:, over_sample_data.columns == 'Class']\n",
    "\n",
    "# Showing ratio\n",
    "print(\"Percentage of normal transactions: \", len(over_sample_data[over_sample_data.Class == 0])/len(over_sample_data))\n",
    "print(\"Percentage of fraud transactions: \", len(over_sample_data[over_sample_data.Class == 1])/len(over_sample_data))\n",
    "print(\"Total number of transactions in resampled data: \", len(over_sample_data))"
   ]
  },
  {
   "cell_type": "code",
   "execution_count": 9,
   "metadata": {},
   "outputs": [
    {
     "name": "stdout",
     "output_type": "stream",
     "text": [
      "Number transactions train dataset:  199364\n",
      "Number transactions test dataset:  85443\n",
      "Total number of transactions:  284807\n",
      "\n",
      "Number transactions train dataset:  398041\n",
      "Number transactions test dataset:  170589\n",
      "Total number of transactions:  568630\n"
     ]
    }
   ],
   "source": [
    "from sklearn.model_selection import train_test_split\n",
    "\n",
    "# Whole dataset\n",
    "X_train, X_test, y_train, y_test = train_test_split(X,y,test_size = 0.3, random_state = 0)\n",
    "\n",
    "print(\"Number transactions train dataset: \", len(X_train))\n",
    "print(\"Number transactions test dataset: \", len(X_test))\n",
    "print(\"Total number of transactions: \", len(X_train)+len(X_test))\n",
    "\n",
    "# Undersampled dataset\n",
    "X_train_over, X_test_over, y_train_over, y_test_over = train_test_split(X_over\n",
    "                                                                                                   ,y_over\n",
    "                                                                                                   ,test_size = 0.3\n",
    "                                                                                                   ,random_state = 0)\n",
    "print(\"\")\n",
    "print(\"Number transactions train dataset: \", len(X_train_over))\n",
    "print(\"Number transactions test dataset: \", len(X_test_over))\n",
    "print(\"Total number of transactions: \", len(X_train_over)+len(X_test_over))\n"
   ]
  },
  {
   "cell_type": "code",
   "execution_count": 10,
   "metadata": {},
   "outputs": [
    {
     "data": {
      "text/plain": [
       "Text(0.5, 0, 'Class')"
      ]
     },
     "execution_count": 10,
     "metadata": {},
     "output_type": "execute_result"
    },
    {
     "data": {
      "image/png": "[encoded data removed]",
      "text/plain": [
       "<Figure size 216x288 with 1 Axes>"
      ]
     },
     "metadata": {
      "needs_background": "light"
     },
     "output_type": "display_data"
    }
   ],
   "source": [
    "import seaborn as sns\n",
    "count_classes = pd.value_counts(over_sample_data['Class'], sort = True).sort_index()\n",
    "'''count_classes.plot(kind = 'bar',color = 'grey')'''\n",
    "\n",
    "plt.figure(figsize=(3,4))\n",
    "sns.barplot(x=count_classes.index, y=count_classes)\n",
    "plt.title('(0: Genuine, 1:Fraudulent)')\n",
    "plt.ylabel('Frequency')\n",
    "plt.xlabel('Class')"
   ]
  },
  {
   "cell_type": "code",
   "execution_count": 11,
   "metadata": {},
   "outputs": [],
   "source": [
    "from sklearn.linear_model import LogisticRegression\n",
    "from sklearn.svm import SVC, LinearSVC\n",
    "from sklearn.neighbors import KNeighborsClassifier\n",
    "from sklearn.metrics import accuracy_score\n",
    "from sklearn.model_selection import KFold, cross_val_score\n",
    "from sklearn.metrics import confusion_matrix,precision_recall_curve,auc,roc_auc_score,roc_curve,recall_score,classification_report "
   ]
  },
  {
   "cell_type": "code",
   "execution_count": 12,
   "metadata": {},
   "outputs": [],
   "source": [
    "def printing_Kfold_scores(x_train_data,y_train_data):\n",
    "    fold = KFold(5,shuffle=False) \n",
    "\n",
    "    # Different C parameters\n",
    "    c_param_range_lr = [0.01,0.1,1,10,100]\n",
    "\n",
    "    results_table = pd.DataFrame(index = range(len(c_param_range_lr),2), columns = ['C_parameter','Mean recall score'])\n",
    "    results_table['C_parameter'] = c_param_range_lr\n",
    "\n",
    "    # the k-fold will give 2 lists: train_indices = indices[0], test_indices = indices[1]\n",
    "    j = 0\n",
    "    for c_param in c_param_range_lr:\n",
    "        print('-------------------------------------------')\n",
    "        print('C parameter: ', c_param)\n",
    "        print('-------------------------------------------')\n",
    "        print('')\n",
    "\n",
    "        recall_accs = []\n",
    "        for iteration, indices in enumerate(fold.split(x_train_data)): \n",
    "\n",
    "            # Call the logistic regression model with a certain C parameter\n",
    "            lr = LogisticRegression(solver='lbfgs',C = c_param, penalty = 'l2',max_iter=7600)\n",
    "\n",
    "            # Use the training data to fit the model. In this case, we use the portion of the fold to train the model\n",
    "            # with indices[0]. We then predict on the portion assigned as the 'test cross validation' with indices[1]\n",
    "            lr.fit(x_train_data.iloc[indices[0],:],y_train_data.iloc[indices[0],:].values.ravel())\n",
    "\n",
    "            # Predict values using the test indices in the training data\n",
    "            y_pred_undersample_log = lr.predict(x_train_data.iloc[indices[1],:].values)\n",
    "\n",
    "            # Calculate the recall score and append it to a list for recall scores representing the current c_parameter\n",
    "            recall_acc = recall_score(y_train_data.iloc[indices[1],:].values,y_pred_undersample_log)\n",
    "            recall_accs.append(recall_acc)\n",
    "            print('Iteration ', iteration,': recall score = ', recall_acc)\n",
    "\n",
    "        # The mean value of those recall scores is the metric we want to save and get hold of.\n",
    "        results_table.loc[j,'Mean recall score'] = np.mean(recall_accs)\n",
    "        j += 1\n",
    "        print('')\n",
    "        print('Mean recall score ', np.mean(recall_accs))\n",
    "        print('')\n",
    "\n",
    "    best_c_lr = results_table.loc[results_table['Mean recall score'].astype(float).idxmax()]['C_parameter']\n",
    "    \n",
    "    # Finally, we can check which C parameter is the best amongst the chosen.\n",
    "    print('*********************************************************************************')\n",
    "    print('Best model to choose from cross validation is with C parameter = ', best_c_lr)\n",
    "    print('*********************************************************************************')\n",
    "    \n",
    "    return best_c_lr"
   ]
  },
  {
   "cell_type": "code",
   "execution_count": 13,
   "metadata": {},
   "outputs": [
    {
     "name": "stdout",
     "output_type": "stream",
     "text": [
      "-------------------------------------------\n",
      "C parameter:  0.01\n",
      "-------------------------------------------\n",
      "\n",
      "Iteration  0 : recall score =  0.9178068385113514\n",
      "Iteration  1 : recall score =  0.9181476719856815\n",
      "Iteration  2 : recall score =  0.921025641025641\n",
      "Iteration  3 : recall score =  0.9214354018823293\n",
      "Iteration  4 : recall score =  0.9188747959311817\n",
      "\n",
      "Mean recall score  0.919458069867237\n",
      "\n",
      "-------------------------------------------\n",
      "C parameter:  0.1\n",
      "-------------------------------------------\n",
      "\n",
      "Iteration  0 : recall score =  0.9200493864489632\n",
      "Iteration  1 : recall score =  0.9201139428773097\n",
      "Iteration  2 : recall score =  0.9229768605378361\n",
      "Iteration  3 : recall score =  0.9234234234234234\n",
      "Iteration  4 : recall score =  0.9207082757754615\n",
      "\n",
      "Mean recall score  0.921454377812599\n",
      "\n",
      "-------------------------------------------\n",
      "C parameter:  1\n",
      "-------------------------------------------\n",
      "\n",
      "Iteration  0 : recall score =  0.9200493864489632\n",
      "Iteration  1 : recall score =  0.9201139428773097\n",
      "Iteration  2 : recall score =  0.9248030018761726\n",
      "Iteration  3 : recall score =  0.9234234234234234\n",
      "Iteration  4 : recall score =  0.9207082757754615\n",
      "\n",
      "Mean recall score  0.9218196060802661\n",
      "\n",
      "-------------------------------------------\n",
      "C parameter:  10\n",
      "-------------------------------------------\n",
      "\n",
      "Iteration  0 : recall score =  0.9200493864489632\n",
      "Iteration  1 : recall score =  0.9201139428773097\n",
      "Iteration  2 : recall score =  0.9248030018761726\n",
      "Iteration  3 : recall score =  0.9234234234234234\n",
      "Iteration  4 : recall score =  0.9207082757754615\n",
      "\n",
      "Mean recall score  0.9218196060802661\n",
      "\n",
      "-------------------------------------------\n",
      "C parameter:  100\n",
      "-------------------------------------------\n",
      "\n",
      "Iteration  0 : recall score =  0.9200493864489632\n",
      "Iteration  1 : recall score =  0.9201139428773097\n",
      "Iteration  2 : recall score =  0.9248030018761726\n",
      "Iteration  3 : recall score =  0.9234234234234234\n",
      "Iteration  4 : recall score =  0.9207082757754615\n",
      "\n",
      "Mean recall score  0.9218196060802661\n",
      "\n",
      "*********************************************************************************\n",
      "Best model to choose from cross validation is with C parameter =  1.0\n",
      "*********************************************************************************\n"
     ]
    }
   ],
   "source": [
    "best_c_lr = printing_Kfold_scores(X_train_over,y_train_over)"
   ]
  },
  {
   "cell_type": "code",
   "execution_count": 14,
   "metadata": {},
   "outputs": [],
   "source": [
    "# Create a function to plot a fancy confusion matrix\n",
    "\n",
    "import itertools\n",
    "\n",
    "def plot_confusion_matrix(cm, classes,\n",
    "                          normalize=False,\n",
    "                          title='Confusion matrix',\n",
    "                          cmap=plt.cm.Greens):\n",
    "    \"\"\"\n",
    "    This function prints and plots the confusion matrix.\n",
    "    Normalization can be applied by setting `normalize=True`.\n",
    "    \"\"\"\n",
    "    plt.imshow(cm, interpolation='nearest', cmap=cmap)\n",
    "    plt.title(title)\n",
    "    plt.colorbar()\n",
    "    tick_marks = np.arange(len(classes))\n",
    "    plt.xticks(tick_marks, classes, rotation=0)\n",
    "    plt.yticks(tick_marks, classes)\n",
    "\n",
    "    if normalize:\n",
    "        cm = cm.astype('float') / cm.sum(axis=1)[:, np.newaxis]\n",
    "        #print(\"Normalized confusion matrix\")\n",
    "    else:\n",
    "        1#print('Confusion matrix, without normalization')\n",
    "\n",
    "    #print(cm)\n",
    "\n",
    "    thresh = cm.max() / 2.\n",
    "    for i, j in itertools.product(range(cm.shape[0]), range(cm.shape[1])):\n",
    "        plt.text(j, i, cm[i, j],\n",
    "                 horizontalalignment=\"center\",\n",
    "                 color=\"white\" if cm[i, j] > thresh else \"black\")\n",
    "\n",
    "    plt.tight_layout()\n",
    "    plt.ylabel('True label')\n",
    "    plt.xlabel('Predicted label')"
   ]
  },
  {
   "cell_type": "code",
   "execution_count": 15,
   "metadata": {},
   "outputs": [
    {
     "name": "stdout",
     "output_type": "stream",
     "text": [
      "The accuracy score  of logistic regression for Oversampled data is 0.9489181600220413\n"
     ]
    },
    {
     "data": {
      "image/png": "[encoded data removed]",
      "text/plain": [
       "<Figure size 432x288 with 2 Axes>"
      ]
     },
     "metadata": {
      "needs_background": "light"
     },
     "output_type": "display_data"
    }
   ],
   "source": [
    "# Predictions on test set and plotting confusion matrix\n",
    "\n",
    "# Use this C_parameter to build the final model with the whole training dataset and predict the classes in the test\n",
    "# dataset\n",
    "lr = LogisticRegression(solver='lbfgs',C = best_c_lr, penalty = 'l2',max_iter=7600)\n",
    "lr.fit(X_train_over,y_train_over.values.ravel())\n",
    "y_pred_over_log = lr.predict(X_test_over.values)\n",
    "\n",
    "# Compute confusion matrix\n",
    "cnf_matrix = confusion_matrix(y_test_over,y_pred_over_log)\n",
    "np.set_printoptions(precision=2)\n",
    "\n",
    "#print(\"Recall metric in the testing dataset: \", cnf_matrix[1,1]/(cnf_matrix[1,0]+cnf_matrix[1,1]))\n",
    "print('The accuracy score  of logistic regression for Oversampled data is {}'.format(accuracy_score(y_test_over,y_pred_over_log)))\n",
    "\n",
    "# Plot non-normalized confusion matrix\n",
    "class_names = [0,1]\n",
    "plt.figure()\n",
    "plot_confusion_matrix(cnf_matrix\n",
    "                      , classes=class_names\n",
    "                      , title='Confusion matrix-LR')\n",
    "plt.show()"
   ]
  },
  {
   "cell_type": "code",
   "execution_count": 16,
   "metadata": {},
   "outputs": [
    {
     "name": "stdout",
     "output_type": "stream",
     "text": [
      "The accuracy of Logistic regression is 0.9489181600220413\n",
      " \n",
      "Precision-->0.9757761432841745\n",
      " \n",
      "F_1_Score -->0.9475230948968407\n",
      " \n",
      "recall_Score -->0.9208601093279957\n",
      " \n",
      "matthews_corrcoef -->0.8992748870043928\n"
     ]
    }
   ],
   "source": [
    "from sklearn.metrics import recall_score,f1_score,precision_score,classification_report,matthews_corrcoef\n",
    "\n",
    "\n",
    "\n",
    "print('The accuracy of Logistic regression is {}'.format(accuracy_score(y_test_over, y_pred_over_log)))\n",
    "print(\" \")\n",
    "print('Precision-->{}'.format(precision_score(y_test_over, y_pred_over_log)))\n",
    "print(\" \")\n",
    "print('F_1_Score -->{}'.format(f1_score(y_test_over, y_pred_over_log)))\n",
    "print(\" \")\n",
    "print('recall_Score -->{}'.format(recall_score(y_test_over, y_pred_over_log)))\n",
    "print(\" \")\n",
    "print('matthews_corrcoef -->{}'.format(matthews_corrcoef(y_test_over, y_pred_over_log)))\n",
    "\n",
    "\n",
    "\n",
    "\n",
    "\n"
   ]
  },
  {
   "cell_type": "code",
   "execution_count": 17,
   "metadata": {},
   "outputs": [
    {
     "name": "stdout",
     "output_type": "stream",
     "text": [
      "The accuracy of logistic regression is 0.9775405826106293\n"
     ]
    },
    {
     "data": {
      "image/png": "[encoded data removed]",
      "text/plain": [
       "<Figure size 432x288 with 2 Axes>"
      ]
     },
     "metadata": {
      "needs_background": "light"
     },
     "output_type": "display_data"
    }
   ],
   "source": [
    "#Whole Data\n",
    "\n",
    "\n",
    "# Use this C_parameter to build the final model with the whole training dataset and predict the classes in the test\n",
    "# dataset\n",
    "lr = LogisticRegression(solver='lbfgs',C = best_c_lr, penalty = 'l2',max_iter=7600)\n",
    "lr.fit(X_train_over,y_train_over.values.ravel())\n",
    "y_pred_log = lr.predict(X_test.values)\n",
    "\n",
    "# Compute confusion matrix\n",
    "cnf_matrix = confusion_matrix(y_test,y_pred_log)\n",
    "np.set_printoptions(precision=2)\n",
    "\n",
    "#print(\"Recall metric in the testing dataset: \", cnf_matrix[1,1]/(cnf_matrix[1,0]+cnf_matrix[1,1]))\n",
    "log_score=(accuracy_score(y_test, y_pred_log))\n",
    "print('The accuracy of logistic regression is {}'.format(accuracy_score(y_test, y_pred_log)))\n",
    "\n",
    "# Plot non-normalized confusion matrix\n",
    "class_names = [0,1]\n",
    "plt.figure()\n",
    "plot_confusion_matrix(cnf_matrix\n",
    "                      , classes=class_names\n",
    "                      , title='Confusion matrix-LR')\n",
    "plt.show()"
   ]
  },
  {
   "cell_type": "code",
   "execution_count": 18,
   "metadata": {},
   "outputs": [
    {
     "name": "stdout",
     "output_type": "stream",
     "text": [
      "The accuracy of Logistic regression is 0.9775405826106293\n",
      " \n",
      "Precision-->0.06611165523996082\n",
      " \n",
      "F_1_Score -->0.12334399269072634\n",
      " \n",
      "recall_Score -->0.9183673469387755\n",
      " \n",
      "matthews_corrcoef -->0.2431209112202853\n"
     ]
    }
   ],
   "source": [
    "from sklearn.metrics import recall_score,f1_score,precision_score,classification_report,matthews_corrcoef\n",
    "\n",
    "\n",
    "print('The accuracy of Logistic regression is {}'.format(accuracy_score(y_test, y_pred_log)))\n",
    "print(\" \")\n",
    "print('Precision-->{}'.format(precision_score(y_test,y_pred_log)))\n",
    "print(\" \")\n",
    "print('F_1_Score -->{}'.format(f1_score(y_test,y_pred_log)))\n",
    "print(\" \")\n",
    "print('recall_Score -->{}'.format(recall_score(y_test,y_pred_log)))\n",
    "print(\" \")\n",
    "print('matthews_corrcoef -->{}'.format(matthews_corrcoef(y_test,y_pred_log)))\n",
    "\n",
    "\n",
    "\n",
    "\n",
    "\n",
    "\n",
    "\n"
   ]
  },
  {
   "cell_type": "code",
   "execution_count": 19,
   "metadata": {},
   "outputs": [
    {
     "name": "stdout",
     "output_type": "stream",
     "text": [
      "AUC= 0.9869849666357264\n"
     ]
    },
    {
     "data": {
      "image/png": "[encoded data removed]",
      "text/plain": [
       "<Figure size 432x288 with 1 Axes>"
      ]
     },
     "metadata": {
      "needs_background": "light"
     },
     "output_type": "display_data"
    }
   ],
   "source": [
    "# ROC CURVE\n",
    "\n",
    "lr = LogisticRegression(solver='lbfgs',C = best_c_lr, penalty = 'l2',max_iter=7600)\n",
    "y_pred_over_score = lr.fit(X_train_over,y_train_over.values.ravel()).decision_function(X_test_over.values)\n",
    "\n",
    "fpr, tpr, thresholds = roc_curve(y_test_over.values.ravel(),y_pred_over_score)\n",
    "roc_auc = auc(fpr, tpr)\n",
    "print(\"AUC=\",roc_auc)\n",
    "# Plot ROC\n",
    "plt.title('Receiver Operating Characteristic')\n",
    "plt.plot(fpr, tpr, 'b',label='AUC = %0.3f'% roc_auc)\n",
    "plt.legend(loc='lower right')\n",
    "plt.plot([0,1],[0,1],'r--')\n",
    "plt.xlim([-0.1,1.0])\n",
    "plt.ylim([-0.1,1.01])\n",
    "plt.ylabel('True Positive Rate')\n",
    "plt.xlabel('False Positive Rate')\n",
    "plt.show()"
   ]
  },
  {
   "cell_type": "code",
   "execution_count": 20,
   "metadata": {},
   "outputs": [],
   "source": [
    "# SUPPORT VECTOR MACHINE\n",
    "\n",
    "def printing_Kfold_scores(x_train_data,y_train_data):\n",
    "    fold = KFold(5,shuffle=False) \n",
    "\n",
    "    # Different C parameters\n",
    "    c_param_range_svm = [0.01,0.1,1,10,100]\n",
    "\n",
    "    results_table = pd.DataFrame(index = range(len(c_param_range_svm),2), columns = ['C_parameter','Mean recall score'])\n",
    "    results_table['C_parameter'] = c_param_range_svm\n",
    "\n",
    "    # the k-fold will give 2 lists: train_indices = indices[0], test_indices = indices[1]\n",
    "    j = 0\n",
    "    for c_param in c_param_range_svm:\n",
    "        print('-------------------------------------------')\n",
    "        print('C parameter: ', c_param)\n",
    "        print('-------------------------------------------')\n",
    "        print('')\n",
    "\n",
    "        recall_accs = []\n",
    "        for iteration, indices in enumerate(fold.split(x_train_data)): \n",
    "\n",
    "            # Call the logistic regression model with a certain C parameter\n",
    "            svc = LinearSVC(C = c_param, penalty = 'l2',max_iter=7600,dual=False)\n",
    "\n",
    "            # Use the training data to fit the model. In this case, we use the portion of the fold to train the model\n",
    "            # with indices[0]. We then predict on the portion assigned as the 'test cross validation' with indices[1]\n",
    "            svc.fit(x_train_data.iloc[indices[0],:],y_train_data.iloc[indices[0],:].values.ravel())\n",
    "\n",
    "            # Predict values using the test indices in the training data\n",
    "            y_pred_over_svm = svc.predict(x_train_data.iloc[indices[1],:].values)\n",
    "\n",
    "            # Calculate the recall score and append it to a list for recall scores representing the current c_parameter\n",
    "            recall_acc = recall_score(y_train_data.iloc[indices[1],:].values,y_pred_over_svm)\n",
    "            recall_accs.append(recall_acc)\n",
    "            print('Iteration ', iteration,': recall score = ', recall_acc)\n",
    "\n",
    "        # The mean value of those recall scores is the metric we want to save and get hold of.\n",
    "        results_table.loc[j,'Mean recall score'] = np.mean(recall_accs)\n",
    "        j += 1\n",
    "        print('')\n",
    "        print('Mean recall score ', np.mean(recall_accs))\n",
    "        print('')\n",
    "\n",
    "    best_c_svm = results_table.loc[results_table['Mean recall score'].astype(float).idxmax()]['C_parameter']\n",
    "    # Finally, we can check which C parameter is the best amongst the chosen.\n",
    "    print('*********************************************************************************')\n",
    "    print('Best model to choose from cross validation is with C parameter = ', best_c_svm)\n",
    "    print('*********************************************************************************')\n",
    "    \n",
    "    return best_c_svm"
   ]
  },
  {
   "cell_type": "code",
   "execution_count": 21,
   "metadata": {},
   "outputs": [
    {
     "name": "stdout",
     "output_type": "stream",
     "text": [
      "-------------------------------------------\n",
      "C parameter:  0.01\n",
      "-------------------------------------------\n",
      "\n",
      "Iteration  0 : recall score =  0.9113311663768993\n",
      "Iteration  1 : recall score =  0.9139378355895031\n",
      "Iteration  2 : recall score =  0.917098186366479\n",
      "Iteration  3 : recall score =  0.9171070511852635\n",
      "Iteration  4 : recall score =  0.9152078362426221\n",
      "\n",
      "Mean recall score  0.9149364151521535\n",
      "\n",
      "-------------------------------------------\n",
      "C parameter:  0.1\n",
      "-------------------------------------------\n",
      "\n",
      "Iteration  0 : recall score =  0.9113311663768993\n",
      "Iteration  1 : recall score =  0.9139378355895031\n",
      "Iteration  2 : recall score =  0.917098186366479\n",
      "Iteration  3 : recall score =  0.9171070511852635\n",
      "Iteration  4 : recall score =  0.9152078362426221\n",
      "\n",
      "Mean recall score  0.9149364151521535\n",
      "\n",
      "-------------------------------------------\n",
      "C parameter:  1\n",
      "-------------------------------------------\n",
      "\n",
      "Iteration  0 : recall score =  0.9113311663768993\n",
      "Iteration  1 : recall score =  0.9139378355895031\n",
      "Iteration  2 : recall score =  0.917098186366479\n",
      "Iteration  3 : recall score =  0.9171070511852635\n",
      "Iteration  4 : recall score =  0.9152078362426221\n",
      "\n",
      "Mean recall score  0.9149364151521535\n",
      "\n",
      "-------------------------------------------\n",
      "C parameter:  10\n",
      "-------------------------------------------\n",
      "\n",
      "Iteration  0 : recall score =  0.9113311663768993\n",
      "Iteration  1 : recall score =  0.9139378355895031\n",
      "Iteration  2 : recall score =  0.917098186366479\n",
      "Iteration  3 : recall score =  0.9171070511852635\n",
      "Iteration  4 : recall score =  0.9152078362426221\n",
      "\n",
      "Mean recall score  0.9149364151521535\n",
      "\n",
      "-------------------------------------------\n",
      "C parameter:  100\n",
      "-------------------------------------------\n",
      "\n",
      "Iteration  0 : recall score =  0.9113311663768993\n",
      "Iteration  1 : recall score =  0.9139378355895031\n",
      "Iteration  2 : recall score =  0.917098186366479\n",
      "Iteration  3 : recall score =  0.9171070511852635\n",
      "Iteration  4 : recall score =  0.9152078362426221\n",
      "\n",
      "Mean recall score  0.9149364151521535\n",
      "\n",
      "*********************************************************************************\n",
      "Best model to choose from cross validation is with C parameter =  0.01\n",
      "*********************************************************************************\n"
     ]
    }
   ],
   "source": [
    "best_c_svm = printing_Kfold_scores(X_train_over,y_train_over)"
   ]
  },
  {
   "cell_type": "code",
   "execution_count": 22,
   "metadata": {},
   "outputs": [
    {
     "name": "stdout",
     "output_type": "stream",
     "text": [
      "The accuracy score of SVM for Over data is = 0.9477398894418749\n"
     ]
    },
    {
     "data": {
      "image/png": "[encoded data removed]",
      "text/plain": [
       "<Figure size 432x288 with 2 Axes>"
      ]
     },
     "metadata": {
      "needs_background": "light"
     },
     "output_type": "display_data"
    }
   ],
   "source": [
    "# Use this C_parameter to build the final model with the whole training dataset and predict the classes in the test\n",
    "# dataset\n",
    "svm = LinearSVC(C = best_c_svm, penalty = 'l2',max_iter=7600,dual=False)\n",
    "svm.fit(X_train_over,y_train_over.values.ravel())\n",
    "y_pred_over_svm = svm.predict(X_test_over.values)\n",
    "\n",
    "# Compute confusion matrix\n",
    "cn_matrix = confusion_matrix(y_test_over,y_pred_over_svm)\n",
    "np.set_printoptions(precision=2)\n",
    "\n",
    "print('The accuracy score of SVM for Over data is = {}'.format(accuracy_score(y_test_over,y_pred_over_svm)))\n",
    "\n",
    "# Plot non-normalized confusion matrix\n",
    "class_names = [0,1]\n",
    "plt.figure()\n",
    "plot_confusion_matrix(cn_matrix\n",
    "                      , classes=class_names\n",
    "                      , title='Confusion matrix-SVM')\n",
    "plt.show()"
   ]
  },
  {
   "cell_type": "code",
   "execution_count": 23,
   "metadata": {},
   "outputs": [
    {
     "name": "stdout",
     "output_type": "stream",
     "text": [
      "In case of oversampled data: \n",
      " \n",
      "The accuracy of SVM is 0.9477398894418749\n",
      " \n",
      "Precision-->0.9799167063900248\n",
      " \n",
      "F_1_Score -->0.9460184439506142\n",
      " \n",
      "recall_Score -->0.9143870491975981\n",
      " \n",
      "matthews_corrcoef -->0.8975057856918864\n"
     ]
    }
   ],
   "source": [
    "\n",
    "print('In case of oversampled data: ')\n",
    "print(\" \")\n",
    "print('The accuracy of SVM is {}'.format(accuracy_score(y_test_over, y_pred_over_svm)))\n",
    "print(\" \")\n",
    "print('Precision-->{}'.format(precision_score(y_test_over, y_pred_over_svm)))\n",
    "print(\" \")\n",
    "print('F_1_Score -->{}'.format(f1_score(y_test_over, y_pred_over_svm)))\n",
    "print(\" \")\n",
    "print('recall_Score -->{}'.format(recall_score(y_test_over, y_pred_over_svm)))\n",
    "print(\" \")\n",
    "print('matthews_corrcoef -->{}'.format(matthews_corrcoef(y_test_over, y_pred_over_svm)))\n",
    "\n"
   ]
  },
  {
   "cell_type": "code",
   "execution_count": 24,
   "metadata": {},
   "outputs": [
    {
     "name": "stdout",
     "output_type": "stream",
     "text": [
      "The accuracy of SVM is = 0.9816602881453133\n"
     ]
    },
    {
     "data": {
      "image/png": "[encoded data removed]",
      "text/plain": [
       "<Figure size 432x288 with 2 Axes>"
      ]
     },
     "metadata": {
      "needs_background": "light"
     },
     "output_type": "display_data"
    }
   ],
   "source": [
    "# Use this C_parameter to build the final model with the whole training dataset and predict the classes in the test\n",
    "# dataset\n",
    "svm = LinearSVC(C = best_c_svm, penalty = 'l2',max_iter=7600,dual=False)\n",
    "svm.fit(X_train_over,y_train_over.values.ravel())\n",
    "y_pred_svm = svm.predict(X_test.values)\n",
    "\n",
    "# Compute confusion matrix\n",
    "cnf_matrix = confusion_matrix(y_test,y_pred_svm)\n",
    "np.set_printoptions(precision=2)\n",
    "\n",
    "print('The accuracy of SVM is = {}'.format(accuracy_score(y_test, y_pred_svm)))\n",
    "\n",
    "# Plot non-normalized confusion matrix\n",
    "class_names = [0,1]\n",
    "plt.figure()\n",
    "plot_confusion_matrix(cnf_matrix\n",
    "                      , classes=class_names\n",
    "                      , title='Confusion matrix-SVM')\n",
    "plt.show()"
   ]
  },
  {
   "cell_type": "code",
   "execution_count": 25,
   "metadata": {},
   "outputs": [
    {
     "name": "stdout",
     "output_type": "stream",
     "text": [
      "In case of whole data: \n",
      " \n",
      "The accuracy of SVM is 0.9816602881453133\n",
      " \n",
      "Precision-->0.07938388625592417\n",
      " \n",
      "F_1_Score -->0.14604904632152588\n",
      " \n",
      "recall_Score -->0.9115646258503401\n",
      " \n",
      "matthews_corrcoef -->0.26604246751347227\n"
     ]
    }
   ],
   "source": [
    "\n",
    "\n",
    "print('In case of whole data: ')\n",
    "print(\" \")\n",
    "print('The accuracy of SVM is {}'.format(accuracy_score(y_test, y_pred_svm)))\n",
    "print(\" \")\n",
    "print('Precision-->{}'.format(precision_score(y_test,y_pred_svm)))\n",
    "print(\" \")\n",
    "print('F_1_Score -->{}'.format(f1_score(y_test,y_pred_svm)))\n",
    "print(\" \")\n",
    "print('recall_Score -->{}'.format(recall_score(y_test,y_pred_svm)))\n",
    "print(\" \")\n",
    "print('matthews_corrcoef -->{}'.format(matthews_corrcoef(y_test,y_pred_svm)))\n",
    "\n",
    "\n",
    "\n",
    "\n",
    "\n",
    "\n"
   ]
  },
  {
   "cell_type": "code",
   "execution_count": 26,
   "metadata": {},
   "outputs": [
    {
     "name": "stdout",
     "output_type": "stream",
     "text": [
      "AUC= 0.9863733588561763\n"
     ]
    },
    {
     "data": {
      "image/png": "[encoded data removed]",
      "text/plain": [
       "<Figure size 432x288 with 1 Axes>"
      ]
     },
     "metadata": {
      "needs_background": "light"
     },
     "output_type": "display_data"
    }
   ],
   "source": [
    "# ROC CURVE\n",
    "svm = LinearSVC(C = best_c_svm, penalty = 'l2',max_iter=7600,dual=False)\n",
    "y_pred_over_score = svm.fit(X_train_over,y_train_over.values.ravel()).decision_function(X_test_over.values)\n",
    "\n",
    "fpr, tpr, thresholds = roc_curve(y_test_over.values.ravel(),y_pred_over_score)\n",
    "roc_auc = auc(fpr, tpr)\n",
    "print(\"AUC=\",roc_auc)\n",
    "\n",
    "\n",
    "\n",
    "\n",
    "\n",
    "# Plot ROC\n",
    "plt.title('Receiver Operating Characteristic')\n",
    "plt.plot(fpr, tpr, 'b',label='AUC = %0.3f'% roc_auc)\n",
    "plt.legend(loc='lower right')\n",
    "plt.plot([0,1],[0,1],'r--')\n",
    "plt.xlim([-0.1,1.0])\n",
    "plt.ylim([-0.1,1.01])\n",
    "plt.ylabel('True Positive Rate')\n",
    "plt.xlabel('False Positive Rate')\n",
    "plt.show()"
   ]
  },
  {
   "cell_type": "code",
   "execution_count": 27,
   "metadata": {},
   "outputs": [
    {
     "name": "stdout",
     "output_type": "stream",
     "text": [
      "The accuracy score  of Naive Bayes for undersample data is 0.9155572750880772\n"
     ]
    },
    {
     "data": {
      "image/png": "[encoded data removed]",
      "text/plain": [
       "<Figure size 432x288 with 2 Axes>"
      ]
     },
     "metadata": {
      "needs_background": "light"
     },
     "output_type": "display_data"
    }
   ],
   "source": [
    "#NAIVE BAYES\n",
    "\n",
    "from sklearn.naive_bayes import GaussianNB\n",
    "\n",
    "nb = GaussianNB()\n",
    "nb.fit(X_train_over,y_train_over.values.ravel())\n",
    "y_pred_over_nb = nb.predict(X_test_over.values)\n",
    "# Compute confusion matrix\n",
    "cnf_matrix = confusion_matrix(y_test_over,y_pred_over_nb)\n",
    "np.set_printoptions(precision=2)\n",
    "\n",
    "#print(\"Recall metric in the testing dataset: \", cnf_matrix[1,1]/(cnf_matrix[1,0]+cnf_matrix[1,1]))\n",
    "print('The accuracy score  of Naive Bayes for undersample data is {}'.format(accuracy_score(y_test_over,y_pred_over_nb)))\n",
    "\n",
    "# Plot non-normalized confusion matrix\n",
    "class_names = [0,1]\n",
    "plt.figure()\n",
    "plot_confusion_matrix(cnf_matrix\n",
    "                      , classes=class_names\n",
    "                      , title='Confusion matrix-NB')\n",
    "plt.show()\n"
   ]
  },
  {
   "cell_type": "code",
   "execution_count": 28,
   "metadata": {},
   "outputs": [
    {
     "name": "stdout",
     "output_type": "stream",
     "text": [
      "The accuracy of Naive Bayes is 0.9155572750880772\n",
      " \n",
      "Precision-->0.970458098190393\n",
      " \n",
      "F_1_Score -->0.9104818011770043\n",
      " \n",
      "recall_Score -->0.8574873289555314\n",
      " \n",
      "matthews_corrcoef -->0.8368513263249308\n"
     ]
    }
   ],
   "source": [
    "from sklearn.metrics import recall_score,f1_score,precision_score,classification_report,matthews_corrcoef\n",
    "\n",
    "\n",
    "\n",
    "print('The accuracy of Naive Bayes is {}'.format(accuracy_score(y_test_over, y_pred_over_nb)))\n",
    "print(\" \")\n",
    "print('Precision-->{}'.format(precision_score(y_test_over, y_pred_over_nb)))\n",
    "print(\" \")\n",
    "print('F_1_Score -->{}'.format(f1_score(y_test_over, y_pred_over_nb)))\n",
    "print(\" \")\n",
    "print('recall_Score -->{}'.format(recall_score(y_test_over, y_pred_over_nb)))\n",
    "print(\" \")\n",
    "print('matthews_corrcoef -->{}'.format(matthews_corrcoef(y_test_over, y_pred_over_nb)))\n",
    "\n",
    "\n",
    "\n",
    "\n",
    "\n"
   ]
  },
  {
   "cell_type": "code",
   "execution_count": 29,
   "metadata": {},
   "outputs": [
    {
     "name": "stdout",
     "output_type": "stream",
     "text": [
      "The accuracy of Naive Bayes is 0.9744859145863324\n"
     ]
    },
    {
     "data": {
      "image/png": "[encoded data removed]",
      "text/plain": [
       "<Figure size 432x288 with 2 Axes>"
      ]
     },
     "metadata": {
      "needs_background": "light"
     },
     "output_type": "display_data"
    }
   ],
   "source": [
    " #Whole Data\n",
    "\n",
    "nb = GaussianNB()\n",
    "nb.fit(X_train_over,y_train_over.values.ravel())\n",
    "y_pred_nb = nb.predict(X_test.values)\n",
    "\n",
    "\n",
    "# Compute confusion matrix\n",
    "cnf_matrix = confusion_matrix(y_test,y_pred_nb)\n",
    "np.set_printoptions(precision=2)\n",
    "\n",
    "#print(\"Recall metric in the testing dataset: \", cnf_matrix[1,1]/(cnf_matrix[1,0]+cnf_matrix[1,1]))\n",
    "log_score=(accuracy_score(y_test, y_pred_nb))\n",
    "print('The accuracy of Naive Bayes is {}'.format(accuracy_score(y_test, y_pred_nb)))\n",
    "\n",
    "# Plot non-normalized confusion matrix\n",
    "class_names = [0,1]\n",
    "plt.figure()\n",
    "plot_confusion_matrix(cnf_matrix\n",
    "                      , classes=class_names\n",
    "                      , title='Confusion matrix-NB')\n",
    "plt.show()"
   ]
  },
  {
   "cell_type": "code",
   "execution_count": 30,
   "metadata": {},
   "outputs": [
    {
     "name": "stdout",
     "output_type": "stream",
     "text": [
      "The accuracy of Naive Bayes is 0.9744859145863324\n",
      " \n",
      "Precision-->0.055531263664188896\n",
      " \n",
      "F_1_Score -->0.10435497124075596\n",
      " \n",
      "recall_Score -->0.8639455782312925\n",
      " \n",
      "matthews_corrcoef -->0.21533239620654043\n"
     ]
    }
   ],
   "source": [
    "from sklearn.metrics import recall_score,f1_score,precision_score,classification_report,matthews_corrcoef\n",
    "\n",
    "\n",
    "\n",
    "print('The accuracy of Naive Bayes is {}'.format(accuracy_score(y_test, y_pred_nb)))\n",
    "print(\" \")\n",
    "print('Precision-->{}'.format(precision_score(y_test,y_pred_nb)))\n",
    "print(\" \")\n",
    "print('F_1_Score -->{}'.format(f1_score(y_test,y_pred_nb)))\n",
    "print(\" \")\n",
    "print('recall_Score -->{}'.format(recall_score(y_test,y_pred_nb)))\n",
    "print(\" \")\n",
    "print('matthews_corrcoef -->{}'.format(matthews_corrcoef(y_test,y_pred_nb)))\n",
    "\n",
    "\n",
    "\n",
    "\n",
    "\n",
    "\n",
    "\n"
   ]
  },
  {
   "cell_type": "code",
   "execution_count": 31,
   "metadata": {},
   "outputs": [
    {
     "name": "stdout",
     "output_type": "stream",
     "text": [
      "AUC= 0.9603425518662586\n"
     ]
    },
    {
     "data": {
      "image/png": "[encoded data removed]",
      "text/plain": [
       "<Figure size 432x288 with 1 Axes>"
      ]
     },
     "metadata": {
      "needs_background": "light"
     },
     "output_type": "display_data"
    }
   ],
   "source": [
    "# ROC CURVE\n",
    "nb = GaussianNB()\n",
    "\n",
    "nb.fit(X_train_over,y_train_over.values.ravel())\n",
    "y_scores = nb.predict_proba(X_test_over)\n",
    "fpr, tpr, threshold = roc_curve(y_test_over, y_scores[:, 1])\n",
    "roc_auc = auc(fpr, tpr)\n",
    "print(\"AUC=\",roc_auc)\n",
    "\n",
    "\n",
    "\n",
    "plt.title('Receiver Operating Characteristic')\n",
    "plt.plot(fpr, tpr, 'b', label = 'AUC = %0.2f' % roc_auc)\n",
    "plt.legend(loc = 'lower right')\n",
    "plt.plot([0,1],[0,1],'r--')\n",
    "plt.xlim([-0.1,1.0])\n",
    "plt.ylim([-0.1,1.01])\n",
    "plt.ylabel('True Positive Rate')\n",
    "plt.xlabel('False Positive Rate')\n",
    "plt.title('ROC Curve of Naive Bayes')\n",
    "plt.show()\n",
    "\n",
    "\n"
   ]
  },
  {
   "cell_type": "code",
   "execution_count": 32,
   "metadata": {},
   "outputs": [],
   "source": [
    "def printing_Kfold_scores(x_train_data,y_train_data):\n",
    "    fold = KFold(5,shuffle=False) \n",
    "    \n",
    "    # Different C parameters\n",
    "    n_param_range = [3,5,7,9]\n",
    "\n",
    "    results_table = pd.DataFrame(index = range(len(n_param_range),2), columns = ['n_parameter','Mean recall score'])\n",
    "    results_table['n_parameter'] = n_param_range\n",
    "    # the k-fold will give 2 lists: train_indices = indices[0], test_indices = indices[1]\n",
    "    j = 0\n",
    "    for n_param in n_param_range:\n",
    "        print('-------------------------------------------')\n",
    "        print('n parameter: ', n_param)\n",
    "        print('-------------------------------------------')\n",
    "        print('')\n",
    "\n",
    "        recall_accs = []\n",
    "        for iteration, indices in enumerate(fold.split(x_train_data)): \n",
    "            # Call the KNN  with a certain C parameter\n",
    "            knn= KNeighborsClassifier(n_neighbors = n_param, metric = 'minkowski', p = 2)\n",
    "\n",
    "            # Use the training data to fit the model. In this case, we use the portion of the fold to train the model\n",
    "            # with indices[0]. We then predict on the portion assigned as the 'test cross validation' with indices[1]\n",
    "            knn.fit(x_train_data.iloc[indices[0],:],y_train_data.iloc[indices[0],:].values.ravel())\n",
    "\n",
    "            # Predict values using the test indices in the training data\n",
    "            y_pred_over = knn.predict(x_train_data.iloc[indices[1],:].values)\n",
    "            \n",
    "            # Calculate the recall score and append it to a list for recall scores representing the current c_parameter\n",
    "            recall_acc = recall_score(y_train_data.iloc[indices[1],:].values,y_pred_over)\n",
    "            recall_accs.append(recall_acc)\n",
    "            print('Iteration ', iteration,': recall score = ', recall_acc)\n",
    "            \n",
    "         # The mean value of those recall scores is the metric we want to save and get hold of.\n",
    "        results_table.loc[j,'Mean recall score'] = np.mean(recall_accs)\n",
    "        j += 1\n",
    "        print('')\n",
    "        print('Mean recall score ', np.mean(recall_accs))\n",
    "        print('')\n",
    "\n",
    "    best_n = results_table.loc[results_table['Mean recall score'].astype(float).idxmax()]['n_parameter']\n",
    "    \n",
    "    # Finally, we can check which C parameter is the best amongst the chosen.\n",
    "    print('*********************************************************************************')\n",
    "    print('Best model to choose from cross validation is with C parameter = ', best_n)\n",
    "    print('*********************************************************************************')\n",
    "    \n",
    "    return best_n\n",
    "\n",
    "\n"
   ]
  },
  {
   "cell_type": "code",
   "execution_count": 33,
   "metadata": {},
   "outputs": [
    {
     "name": "stdout",
     "output_type": "stream",
     "text": [
      "-------------------------------------------\n",
      "n parameter:  3\n",
      "-------------------------------------------\n",
      "\n",
      "Iteration  0 : recall score =  1.0\n",
      "Iteration  1 : recall score =  1.0\n",
      "Iteration  2 : recall score =  1.0\n",
      "Iteration  3 : recall score =  1.0\n",
      "Iteration  4 : recall score =  1.0\n",
      "\n",
      "Mean recall score  1.0\n",
      "\n",
      "-------------------------------------------\n",
      "n parameter:  5\n",
      "-------------------------------------------\n",
      "\n",
      "Iteration  0 : recall score =  1.0\n",
      "Iteration  1 : recall score =  1.0\n",
      "Iteration  2 : recall score =  1.0\n",
      "Iteration  3 : recall score =  1.0\n",
      "Iteration  4 : recall score =  1.0\n",
      "\n",
      "Mean recall score  1.0\n",
      "\n",
      "-------------------------------------------\n",
      "n parameter:  7\n",
      "-------------------------------------------\n",
      "\n",
      "Iteration  0 : recall score =  1.0\n",
      "Iteration  1 : recall score =  1.0\n",
      "Iteration  2 : recall score =  1.0\n",
      "Iteration  3 : recall score =  1.0\n",
      "Iteration  4 : recall score =  1.0\n",
      "\n",
      "Mean recall score  1.0\n",
      "\n",
      "-------------------------------------------\n",
      "n parameter:  9\n",
      "-------------------------------------------\n",
      "\n",
      "Iteration  0 : recall score =  1.0\n",
      "Iteration  1 : recall score =  1.0\n",
      "Iteration  2 : recall score =  1.0\n",
      "Iteration  3 : recall score =  1.0\n",
      "Iteration  4 : recall score =  1.0\n",
      "\n",
      "Mean recall score  1.0\n",
      "\n",
      "*********************************************************************************\n",
      "Best model to choose from cross validation is with C parameter =  3\n",
      "*********************************************************************************\n"
     ]
    }
   ],
   "source": [
    "best_n = printing_Kfold_scores(X_train_over,y_train_over)"
   ]
  },
  {
   "cell_type": "code",
   "execution_count": 34,
   "metadata": {},
   "outputs": [
    {
     "data": {
      "image/png": "[encoded data removed]",
      "text/plain": [
       "<Figure size 432x288 with 2 Axes>"
      ]
     },
     "metadata": {
      "needs_background": "light"
     },
     "output_type": "display_data"
    }
   ],
   "source": [
    "# Use this n_parameter to build the final model \n",
    "\n",
    "knn= KNeighborsClassifier(n_neighbors = best_n)\n",
    "knn.fit(X_train_over,y_train_over.values.ravel())\n",
    "y_pred_over_knn = knn.predict(X_test_over.values)\n",
    "\n",
    "# Compute confusion matrix\n",
    "cn_matrix = confusion_matrix(y_test_over,y_pred_over_knn)\n",
    "np.set_printoptions(precision=2)\n",
    "\n",
    "\n",
    "# Plot non-normalized confusion matrix\n",
    "class_names = [0,1]\n",
    "plt.figure()\n",
    "plot_confusion_matrix(cn_matrix\n",
    "                      , classes=class_names\n",
    "                      , title='Confusion matrix-KNN')\n",
    "plt.show()\n"
   ]
  },
  {
   "cell_type": "code",
   "execution_count": 36,
   "metadata": {},
   "outputs": [
    {
     "name": "stdout",
     "output_type": "stream",
     "text": [
      "Accuracy -->0.9996951737802555\n",
      " \n",
      "Precision-->0.9993916919153516\n",
      " \n",
      "Recall-->1.0\n",
      " \n",
      "F_1_Score -->0.9996957534198486\n",
      " \n",
      "matthews_corrcoef -->0.9993905311304441\n"
     ]
    }
   ],
   "source": [
    "from sklearn.metrics import recall_score,f1_score,precision_score,classification_report,matthews_corrcoef\n",
    "\n",
    "print('Accuracy -->{}'.format(accuracy_score(y_test_over,y_pred_over_knn)))\n",
    "print(\" \")\n",
    "print('Precision-->{}'.format(precision_score(y_test_over,y_pred_over_knn)))\n",
    "print(\" \")\n",
    "print('Recall-->{}'.format(recall_score(y_test_over, y_pred_over_knn)))\n",
    "print(\" \")\n",
    "print('F_1_Score -->{}'.format(f1_score(y_test_over,y_pred_over_knn)))\n",
    "print(\" \")\n",
    "print('matthews_corrcoef -->{}'.format(matthews_corrcoef(y_test_over, y_pred_over_knn)))"
   ]
  },
  {
   "cell_type": "code",
   "execution_count": 37,
   "metadata": {},
   "outputs": [
    {
     "data": {
      "image/png": "[encoded data removed]",
      "text/plain": [
       "<Figure size 432x288 with 2 Axes>"
      ]
     },
     "metadata": {
      "needs_background": "light"
     },
     "output_type": "display_data"
    }
   ],
   "source": [
    "# Use this C_parameter to build the final model\n",
    "\n",
    "knn = KNeighborsClassifier(n_neighbors = best_n)\n",
    "knn.fit(X_train_over,y_train_over.values.ravel())\n",
    "y_pred_knn = knn.predict(X_test.values)\n",
    "\n",
    "# Compute confusion matrix\n",
    "cnf_matrix = confusion_matrix(y_test,y_pred_knn)\n",
    "np.set_printoptions(precision=2)\n",
    "\n",
    "\n",
    "\n",
    "# Plot non-normalized confusion matrix\n",
    "class_names = [0,1]\n",
    "plt.figure()\n",
    "plot_confusion_matrix(cnf_matrix\n",
    "                      , classes=class_names\n",
    "                      , title='Confusion matrix-KNN')\n",
    "plt.show()\n",
    "\n",
    "\n"
   ]
  },
  {
   "cell_type": "code",
   "execution_count": 38,
   "metadata": {},
   "outputs": [
    {
     "name": "stdout",
     "output_type": "stream",
     "text": [
      "Accuracy -->0.9996722961506501\n",
      " \n",
      "Precision-->0.84\n",
      " \n",
      "Recall-->1.0\n",
      " \n",
      "F_1_Score -->0.9130434782608696\n",
      " \n",
      "matthews_corrcoef -->0.9163646950648431\n"
     ]
    }
   ],
   "source": [
    "\n",
    "\n",
    "print('Accuracy -->{}'.format(accuracy_score(y_test,y_pred_knn)))\n",
    "print(\" \")\n",
    "print('Precision-->{}'.format(precision_score(y_test,y_pred_knn)))\n",
    "print(\" \")\n",
    "print('Recall-->{}'.format(recall_score(y_test,y_pred_knn)))\n",
    "print(\" \")\n",
    "print('F_1_Score -->{}'.format(f1_score(y_test,y_pred_knn)))\n",
    "print(\" \")\n",
    "print('matthews_corrcoef -->{}'.format(matthews_corrcoef(y_test, y_pred_knn)))\n",
    "\n"
   ]
  },
  {
   "cell_type": "code",
   "execution_count": 40,
   "metadata": {},
   "outputs": [
    {
     "name": "stdout",
     "output_type": "stream",
     "text": [
      "AUC= 0.9997827567580263\n"
     ]
    },
    {
     "data": {
      "image/png": "[encoded data removed]",
      "text/plain": [
       "<Figure size 432x288 with 1 Axes>"
      ]
     },
     "metadata": {
      "needs_background": "light"
     },
     "output_type": "display_data"
    }
   ],
   "source": [
    "knn = KNeighborsClassifier(n_neighbors = best_n)\n",
    "knn.fit(X_train_over,y_train_over.values.ravel())\n",
    "y_scores = knn.predict_proba(X_test_over)\n",
    "fpr, tpr, threshold = roc_curve(y_test_over, y_scores[:, 1])\n",
    "roc_auc = auc(fpr, tpr)\n",
    "print(\"AUC=\",roc_auc)\n",
    "\n",
    "\n",
    "\n",
    "plt.title('Receiver Operating Characteristic')\n",
    "plt.plot(fpr, tpr, 'b', label = 'AUC = %0.2f' % roc_auc)\n",
    "plt.legend(loc = 'lower right')\n",
    "plt.plot([0,1],[0,1],'r--')\n",
    "plt.xlim([-0.1,1.0])\n",
    "plt.ylim([-0.1,1.01])\n",
    "plt.ylabel('True Positive Rate')\n",
    "plt.xlabel('False Positive Rate')\n",
    "plt.title('ROC Curve of kNN')\n",
    "plt.show()"
   ]
  },
  {
   "cell_type": "code",
   "execution_count": null,
   "metadata": {},
   "outputs": [],
   "source": []
  }
 ],
 "metadata": {
  "kernelspec": {
   "display_name": "Python 3",
   "language": "python",
   "name": "python3"
  },
  "language_info": {
   "codemirror_mode": {
    "name": "ipython",
    "version": 3
   },
   "file_extension": ".py",
   "mimetype": "text/x-python",
   "name": "python",
   "nbconvert_exporter": "python",
   "pygments_lexer": "ipython3",
   "version": "3.8.3"
  }
 },
 "nbformat": 4,
 "nbformat_minor": 4
}
